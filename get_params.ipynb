{
 "cells": [
  {
   "cell_type": "code",
   "execution_count": 1,
   "metadata": {},
   "outputs": [
    {
     "name": "stdout",
     "output_type": "stream",
     "text": [
      "Warning, 5 of 20000 bins contained negative fluxes; they have been set to zero.\n"
     ]
    },
    {
     "name": "stderr",
     "output_type": "stream",
     "text": [
      "/data/bwedig/.conda/envs/hwo/lib/python3.10/site-packages/pysynphot/units.py:824: RuntimeWarning: divide by zero encountered in log\n",
      "  return -1.085736 * N.log(arg) + ABZERO\n"
     ]
    },
    {
     "name": "stdout",
     "output_type": "stream",
     "text": [
      "Warning, 3590 of 20000 bins contained negative fluxes; they have been set to zero.\n",
      "Warning, 293 of 2920 bins contained negative fluxes; they have been set to zero.\n"
     ]
    }
   ],
   "source": [
    "from syotools.models import Telescope, Camera, PhotometricExposure\n",
    "from camera_etc import phot_compute_snr\n",
    "from pprint import pprint"
   ]
  },
  {
   "cell_type": "code",
   "execution_count": 2,
   "metadata": {},
   "outputs": [
    {
     "name": "stdout",
     "output_type": "stream",
     "text": [
      "Setting Telescope to:  EAC2\n"
     ]
    }
   ],
   "source": [
    "e, camera, telescope = PhotometricExposure(), Camera(), Telescope()\n",
    "telescope.set_from_json('EAC2')\n",
    "telescope.add_camera(camera)\n",
    "camera.add_exposure(e)"
   ]
  },
  {
   "cell_type": "code",
   "execution_count": 3,
   "metadata": {},
   "outputs": [
    {
     "name": "stdout",
     "output_type": "stream",
     "text": [
      "<Quantity 6. m>\n"
     ]
    }
   ],
   "source": [
    "pprint(telescope.aperture)"
   ]
  },
  {
   "cell_type": "code",
   "execution_count": 4,
   "metadata": {},
   "outputs": [
    {
     "name": "stdout",
     "output_type": "stream",
     "text": [
      "<Quantity 0.02097026 1 / m>\n"
     ]
    }
   ],
   "source": [
    "diff_limit = 1.22*(500.*0.000000001)*206264.8062/telescope.aperture\n",
    "pprint(diff_limit)"
   ]
  },
  {
   "cell_type": "code",
   "execution_count": 5,
   "metadata": {},
   "outputs": [
    {
     "name": "stdout",
     "output_type": "stream",
     "text": [
      "['FUV', 'NUV', 'U', 'B', 'V', 'R', 'I', 'J', 'H', 'K']\n"
     ]
    }
   ],
   "source": [
    "pprint(camera.bandnames)"
   ]
  },
  {
   "cell_type": "code",
   "execution_count": 6,
   "metadata": {},
   "outputs": [
    {
     "name": "stdout",
     "output_type": "stream",
     "text": [
      "OrderedDict([('value',\n",
      "              [225.0,\n",
      "               275.0,\n",
      "               336.0,\n",
      "               475.0,\n",
      "               606.0,\n",
      "               775.0,\n",
      "               850.0,\n",
      "               1260.0,\n",
      "               1600.0,\n",
      "               2220.0]),\n",
      "             ('unit', 'nm')])\n"
     ]
    }
   ],
   "source": [
    "pprint(camera.pivotwave[1])"
   ]
  },
  {
   "cell_type": "code",
   "execution_count": 7,
   "metadata": {},
   "outputs": [
    {
     "name": "stdout",
     "output_type": "stream",
     "text": [
      "<class 'float'>\n",
      "<class 'str'>\n"
     ]
    }
   ],
   "source": [
    "for key, value in camera.pivotwave[1].items():\n",
    "    print(type(value[0]))"
   ]
  },
  {
   "cell_type": "code",
   "execution_count": 9,
   "metadata": {},
   "outputs": [
    {
     "name": "stdout",
     "output_type": "stream",
     "text": [
      "('JsonUnit',\n",
      " {'unit': 'arcsec / pix',\n",
      "  'value': [0.00687549354156988,\n",
      "            0.00687549354156988,\n",
      "            0.00687549354156988,\n",
      "            0.00687549354156988,\n",
      "            0.00687549354156988,\n",
      "            0.00687549354156988,\n",
      "            0.00687549354156988,\n",
      "            0.020626480624709637,\n",
      "            0.020626480624709637,\n",
      "            0.020626480624709637]})\n"
     ]
    }
   ],
   "source": [
    "pprint(camera.pixel_size)"
   ]
  },
  {
   "cell_type": "code",
   "execution_count": 15,
   "metadata": {},
   "outputs": [],
   "source": [
    "# fwhm_psf = {}\n",
    "# for band, pivot_wave in enumerate(camera.bandnames, camera.pivotwave[1].values()):\n",
    "#     fwhm_psf[band] = 1.22 * pivot_wave * 0.000000001 * 206264.8062 / telescope.aperture\n",
    "\n",
    "# pprint(fwhm_psf)"
   ]
  },
  {
   "cell_type": "code",
   "execution_count": 13,
   "metadata": {},
   "outputs": [
    {
     "name": "stdout",
     "output_type": "stream",
     "text": [
      "0.009436614883650002 1 / m\n"
     ]
    }
   ],
   "source": [
    "fwhm = 1.22 * 225.0 * 0.000000001 * 206264.8062 / telescope.aperture\n",
    "print(fwhm)"
   ]
  },
  {
   "cell_type": "code",
   "execution_count": 14,
   "metadata": {},
   "outputs": [
    {
     "name": "stdout",
     "output_type": "stream",
     "text": [
      "('JsonUnit', {'unit': 'ph / (nm s cm2)', 'value': [24488.444444444445, 20036.0, 16398.511904761905, 11599.78947368421, 9092.244224422442, 7109.548387096775, 6482.235294117647, 4372.936507936508, 3443.6875, 2481.936936936937]})\n"
     ]
    }
   ],
   "source": [
    "print(camera.ab_zeropoint)"
   ]
  }
 ],
 "metadata": {
  "kernelspec": {
   "display_name": "hwo",
   "language": "python",
   "name": "python3"
  },
  "language_info": {
   "codemirror_mode": {
    "name": "ipython",
    "version": 3
   },
   "file_extension": ".py",
   "mimetype": "text/x-python",
   "name": "python",
   "nbconvert_exporter": "python",
   "pygments_lexer": "ipython3",
   "version": "3.10.6"
  }
 },
 "nbformat": 4,
 "nbformat_minor": 2
}
