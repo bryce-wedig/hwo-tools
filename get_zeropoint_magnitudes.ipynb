{
 "cells": [
  {
   "cell_type": "code",
   "execution_count": 2,
   "metadata": {},
   "outputs": [
    {
     "name": "stdout",
     "output_type": "stream",
     "text": [
      "Warning, 5 of 20000 bins contained negative fluxes; they have been set to zero.\n"
     ]
    },
    {
     "name": "stderr",
     "output_type": "stream",
     "text": [
      "/data/bwedig/.conda/envs/hwo/lib/python3.10/site-packages/pysynphot/units.py:824: RuntimeWarning: divide by zero encountered in log\n",
      "  return -1.085736 * N.log(arg) + ABZERO\n"
     ]
    },
    {
     "name": "stdout",
     "output_type": "stream",
     "text": [
      "Warning, 3590 of 20000 bins contained negative fluxes; they have been set to zero.\n",
      "Warning, 293 of 2920 bins contained negative fluxes; they have been set to zero.\n"
     ]
    }
   ],
   "source": [
    "from syotools.models import Telescope, Camera, PhotometricExposure\n",
    "from camera_etc import phot_compute_snr\n",
    "from pprint import pprint\n",
    "from lenstronomy.Util import data_util\n",
    "import numpy as np"
   ]
  },
  {
   "cell_type": "code",
   "execution_count": 3,
   "metadata": {},
   "outputs": [
    {
     "name": "stdout",
     "output_type": "stream",
     "text": [
      "Setting Telescope to:  EAC2\n"
     ]
    }
   ],
   "source": [
    "e, camera, telescope = PhotometricExposure(), Camera(), Telescope()\n",
    "telescope.set_from_json('EAC2')\n",
    "telescope.add_camera(camera)\n",
    "camera.add_exposure(e)"
   ]
  },
  {
   "cell_type": "code",
   "execution_count": 9,
   "metadata": {},
   "outputs": [
    {
     "name": "stdout",
     "output_type": "stream",
     "text": [
      "('JsonUnit',\n",
      " {'unit': 'ph / (nm s cm2)',\n",
      "  'value': [24488.444444444445,\n",
      "            20036.0,\n",
      "            16398.511904761905,\n",
      "            11599.78947368421,\n",
      "            9092.244224422442,\n",
      "            7109.548387096775,\n",
      "            6482.235294117647,\n",
      "            4372.936507936508,\n",
      "            3443.6875,\n",
      "            2481.936936936937]})\n"
     ]
    }
   ],
   "source": [
    "pprint(camera.ab_zeropoint)"
   ]
  },
  {
   "cell_type": "code",
   "execution_count": 12,
   "metadata": {},
   "outputs": [],
   "source": [
    "ab_zeropoints = [24488.444444444445,\n",
    "            20036.0,\n",
    "            16398.511904761905,\n",
    "            11599.78947368421,\n",
    "            9092.244224422442,\n",
    "            7109.548387096775,\n",
    "            6482.235294117647,\n",
    "            4372.936507936508,\n",
    "            3443.6875,\n",
    "            2481.936936936937]"
   ]
  },
  {
   "cell_type": "code",
   "execution_count": 10,
   "metadata": {},
   "outputs": [
    {
     "name": "stdout",
     "output_type": "stream",
     "text": [
      "('JsonUnit',\n",
      " {'unit': 'nm',\n",
      "  'value': [45.0, 55.0, 67.2, 95.0, 121.2, 155.0, 170.0, 252.0, 320.0, 444.0]})\n"
     ]
    }
   ],
   "source": [
    "pprint(camera.derived_bandpass)"
   ]
  },
  {
   "cell_type": "code",
   "execution_count": 11,
   "metadata": {},
   "outputs": [],
   "source": [
    "derived_bandpasses = [45.0, 55.0, 67.2, 95.0, 121.2, 155.0, 170.0, 252.0, 320.0, 444.0]"
   ]
  },
  {
   "cell_type": "code",
   "execution_count": 14,
   "metadata": {},
   "outputs": [
    {
     "name": "stdout",
     "output_type": "stream",
     "text": [
      "[311577504516.2592,\n",
      " 311577504516.2592,\n",
      " 311577504516.2593,\n",
      " 311577504516.25916,\n",
      " 311577504516.2592,\n",
      " 311577504516.2592,\n",
      " 311577504516.2592,\n",
      " 311577504516.2592,\n",
      " 311577504516.2592,\n",
      " 311577504516.2592]\n"
     ]
    }
   ],
   "source": [
    "coeff = [ab_zeropoint * (np.pi) / 4. * (600. ** 2) * derived_bandpass for ab_zeropoint, derived_bandpass in zip(ab_zeropoints, derived_bandpasses)]\n",
    "\n",
    "pprint(coeff)"
   ]
  },
  {
   "cell_type": "markdown",
   "metadata": {},
   "source": [
    "get 28.7339"
   ]
  }
 ],
 "metadata": {
  "kernelspec": {
   "display_name": "hwo",
   "language": "python",
   "name": "python3"
  },
  "language_info": {
   "codemirror_mode": {
    "name": "ipython",
    "version": 3
   },
   "file_extension": ".py",
   "mimetype": "text/x-python",
   "name": "python",
   "nbconvert_exporter": "python",
   "pygments_lexer": "ipython3",
   "version": "3.10.6"
  }
 },
 "nbformat": 4,
 "nbformat_minor": 2
}
