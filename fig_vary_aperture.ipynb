{
 "cells": [
  {
   "cell_type": "code",
   "execution_count": null,
   "metadata": {},
   "outputs": [],
   "source": [
    "from syotools.models import Telescope, Camera, PhotometricExposure\n",
    "from syotools.utils.jsonunit import str_jsunit\n",
    "from syotools.spectra import SpectralLibrary\n",
    "import astropy.units as u\n",
    "import numpy as np \n",
    "import matplotlib.pyplot as plt\n",
    "from strong_lens import StrongLens\n",
    "import pandas as pd\n",
    "from tqdm import tqdm\n",
    "import pickle\n",
    "import os"
   ]
  },
  {
   "cell_type": "code",
   "execution_count": null,
   "metadata": {},
   "outputs": [],
   "source": [
    "figure_dir = 'figures'\n",
    "output_dir = 'output'"
   ]
  },
  {
   "cell_type": "code",
   "execution_count": null,
   "metadata": {},
   "outputs": [],
   "source": [
    "snr_detectable = 10\n",
    "snr_characterizable = 25\n",
    "snr_band = 'J'"
   ]
  },
  {
   "cell_type": "code",
   "execution_count": null,
   "metadata": {},
   "outputs": [],
   "source": [
    "# apertures = np.linspace(4, 10, 7)\n",
    "apertures = [6]"
   ]
  },
  {
   "cell_type": "code",
   "execution_count": null,
   "metadata": {},
   "outputs": [],
   "source": [
    "df = pd.read_csv('hwo_lens_population.csv')\n",
    "strong_lenses = [StrongLens(row) for _, row in df.iterrows()]"
   ]
  },
  {
   "cell_type": "code",
   "execution_count": null,
   "metadata": {},
   "outputs": [],
   "source": [
    "snr_dict = {}\n",
    "detectable_dict = {}\n",
    "characterizable_dict = {}\n",
    "\n",
    "for aperture in tqdm(apertures, desc='Apertures', position=0, leave=True):\n",
    "    snr_list = []\n",
    "    detectable_list = []\n",
    "    characterizable_list = []\n",
    "\n",
    "    t, c = Telescope(), Camera()\n",
    "    t.set_from_json('EAC1', False)\n",
    "    t.aperture = aperture * u.m\n",
    "    t.add_camera(c)\n",
    "\n",
    "    band_idx = c.bandnames.index(snr_band)\n",
    "\n",
    "    for strong_lens in tqdm(strong_lenses, desc='Strong lenses', position=1, leave=False):\n",
    "        e = c.create_exposure()\n",
    "        e.sed_id = 'sbc'\n",
    "        e.redshift = strong_lens.z_source\n",
    "\n",
    "        band = 'v'\n",
    "        lensed_source_mag = strong_lens.get_lensed_source_mag(band)\n",
    "        e.renorm_sed(lensed_source_mag * u.ABmag, bandpass=band, force=False)\n",
    "\n",
    "        sed, snrs = e.recover('sed', 'snr')\n",
    "        snr = snrs.value[band_idx]\n",
    "        snr_list.append(snr)\n",
    "\n",
    "        if snr > snr_detectable:\n",
    "            detectable_list.append(strong_lens)\n",
    "        if snr > snr_characterizable:\n",
    "            characterizable_list.append(strong_lens)\n",
    "        \n",
    "    snr_dict[aperture] = snr_list\n",
    "    detectable_dict[aperture] = detectable_list\n",
    "    characterizable_dict[aperture] = characterizable_list\n",
    "\n",
    "with open(os.path.join(output_dir, 'aper_snr_dict.pkl'), 'wb') as results_file:\n",
    "    pickle.dump(snr_dict, results_file)\n",
    "\n",
    "with open(os.path.join(output_dir, 'aper_detectable_dict.pkl'), 'wb') as results_file:\n",
    "    pickle.dump(detectable_dict, results_file)\n",
    "\n",
    "with open(os.path.join(output_dir, 'aper_characterizable_dict.pkl'), 'wb') as results_file:\n",
    "    pickle.dump(characterizable_dict, results_file)"
   ]
  },
  {
   "cell_type": "code",
   "execution_count": null,
   "metadata": {},
   "outputs": [],
   "source": [
    "with open(os.path.join(output_dir, 'aper_snr_dict.pkl'), 'rb') as results_file:\n",
    "    snr_dict = pickle.load(results_file)\n",
    "\n",
    "with open(os.path.join(output_dir, 'aper_detectable_dict.pkl'), 'rb') as results_file:\n",
    "    detectable_dict = pickle.load(results_file)\n",
    "\n",
    "with open(os.path.join(output_dir, 'aper_characterizable_dict.pkl'), 'rb') as results_file:\n",
    "    characterizable_dict = pickle.load(results_file)"
   ]
  },
  {
   "cell_type": "code",
   "execution_count": null,
   "metadata": {},
   "outputs": [],
   "source": [
    "import matplotlib as mpl\n",
    "mpl.rcParams.update(mpl.rcParamsDefault)\n",
    "\n",
    "# plt.style.use('science.mplstyle')"
   ]
  },
  {
   "cell_type": "code",
   "execution_count": null,
   "metadata": {},
   "outputs": [],
   "source": [
    "bins = int(np.sqrt(len(strong_lenses)))\n",
    "\n",
    "for aperture, snr_list in snr_dict.items():\n",
    "    if aperture == 4 or aperture == 7 or aperture == 10:\n",
    "        plt.hist(snr_list, bins=20, label=f'{aperture:.1f} m', histtype='step')\n",
    "\n",
    "plt.xlabel('SNR in HRI J-band')\n",
    "plt.ylabel('Count')\n",
    "plt.yscale('log')\n",
    "plt.legend()\n",
    "plt.savefig(os.path.join(figure_dir, 'aper_snr.png'))\n",
    "plt.show()"
   ]
  },
  {
   "cell_type": "code",
   "execution_count": null,
   "metadata": {},
   "outputs": [],
   "source": [
    "detectable, characterizable = [], []\n",
    "for aperture in apertures:\n",
    "    detectable.append(np.sum(np.array(snr_dict[aperture]) > snr_detectable))\n",
    "    characterizable.append(np.sum(np.array(snr_dict[aperture]) > snr_characterizable))\n",
    "\n",
    "offset = 0.1\n",
    "plt.bar([a - offset for a in apertures], detectable, label=f'Detectable (SNR > {snr_detectable})', width=offset * 2)\n",
    "plt.bar([a - offset for a in apertures], characterizable, label=f'Characterizable (SNR > {snr_characterizable})', width=offset * 2)\n",
    "plt.xlabel('Aperture [m]')\n",
    "plt.ylabel('Count')\n",
    "plt.legend()\n",
    "plt.savefig(os.path.join(figure_dir, 'aper_count.png'))\n",
    "plt.show()"
   ]
  }
 ],
 "metadata": {
  "kernelspec": {
   "display_name": "hwo",
   "language": "python",
   "name": "python3"
  },
  "language_info": {
   "codemirror_mode": {
    "name": "ipython",
    "version": 3
   },
   "file_extension": ".py",
   "mimetype": "text/x-python",
   "name": "python",
   "nbconvert_exporter": "python",
   "pygments_lexer": "ipython3",
   "version": "3.10.6"
  }
 },
 "nbformat": 4,
 "nbformat_minor": 2
}
