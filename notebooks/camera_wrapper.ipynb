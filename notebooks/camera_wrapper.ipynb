{
 "cells": [
  {
   "cell_type": "markdown",
   "id": "de56048d-ae24-4da4-8eab-0f1b245f05ad",
   "metadata": {},
   "source": [
    "## Illustration of the simple wrapper for camera_etc "
   ]
  },
  {
   "cell_type": "markdown",
   "id": "480cbfc3-0122-4b28-8515-3918f2b80f80",
   "metadata": {},
   "source": [
    "First, import the wrapper function for obtaining HRI SNR from basic inputs "
   ]
  },
  {
   "cell_type": "code",
   "execution_count": null,
   "id": "8c1c022f-d49b-4e5c-9ae4-0fd0ee8a24d6",
   "metadata": {},
   "outputs": [],
   "source": [
    "from syotools.wrappers.camera import camera_snr\n",
    "import matplotlib.pyplot as plt "
   ]
  },
  {
   "cell_type": "code",
   "execution_count": null,
   "id": "5d0ae6a3-71dd-48ef-ad16-5287826f3916",
   "metadata": {},
   "outputs": [],
   "source": [
    "snr, hri = camera_snr('EAC1', 'flat', 31., 10., silent=True) "
   ]
  },
  {
   "cell_type": "code",
   "execution_count": null,
   "id": "638c1eba-8b0b-487f-918a-89daa9617b28",
   "metadata": {},
   "outputs": [],
   "source": [
    "snr"
   ]
  },
  {
   "cell_type": "code",
   "execution_count": null,
   "id": "3a646bab-32f2-4641-87fb-89ade9701845",
   "metadata": {},
   "outputs": [],
   "source": [
    "help(camera_snr) "
   ]
  },
  {
   "cell_type": "code",
   "execution_count": null,
   "id": "b234cf16-aa1d-4606-8316-829df41fd29a",
   "metadata": {},
   "outputs": [],
   "source": [
    "from syotools.wrappers.camera import camera_exptime"
   ]
  },
  {
   "cell_type": "code",
   "execution_count": null,
   "id": "9a819de5",
   "metadata": {},
   "outputs": [],
   "source": [
    "exptime, hri = camera_exptime('EAC1', 'Flat', 31., 10., silent=True) "
   ]
  },
  {
   "cell_type": "code",
   "execution_count": null,
   "id": "13f60572",
   "metadata": {},
   "outputs": [],
   "source": [
    "exptime"
   ]
  },
  {
   "cell_type": "code",
   "execution_count": null,
   "id": "1ebbcb38-db05-4543-9e58-8e75e4a0a6ee",
   "metadata": {},
   "outputs": [],
   "source": [
    "help(camera_exptime) "
   ]
  },
  {
   "cell_type": "code",
   "execution_count": null,
   "id": "bb50ac29-009b-436c-be3f-fc9147cbfda5",
   "metadata": {},
   "outputs": [],
   "source": []
  },
  {
   "cell_type": "code",
   "execution_count": null,
   "id": "3adaf4e4-9a97-48c8-a989-8829cac891e8",
   "metadata": {},
   "outputs": [],
   "source": []
  }
 ],
 "metadata": {
  "kernelspec": {
   "display_name": "Python 3 (ipykernel)",
   "language": "python",
   "name": "python3"
  },
  "language_info": {
   "codemirror_mode": {
    "name": "ipython",
    "version": 3
   },
   "file_extension": ".py",
   "mimetype": "text/x-python",
   "name": "python",
   "nbconvert_exporter": "python",
   "pygments_lexer": "ipython3",
   "version": "3.12.7"
  }
 },
 "nbformat": 4,
 "nbformat_minor": 5
}
