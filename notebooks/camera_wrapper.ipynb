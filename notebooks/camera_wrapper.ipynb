{
 "cells": [
  {
   "cell_type": "markdown",
   "id": "de56048d-ae24-4da4-8eab-0f1b245f05ad",
   "metadata": {},
   "source": [
    "## Illustration of the simple wrapper for camera_etc "
   ]
  },
  {
   "cell_type": "markdown",
   "id": "480cbfc3-0122-4b28-8515-3918f2b80f80",
   "metadata": {},
   "source": [
    "First, import the wrapper function for obtaining HRI SNR from basic inputs "
   ]
  },
  {
   "cell_type": "code",
   "execution_count": 1,
   "id": "8c1c022f-d49b-4e5c-9ae4-0fd0ee8a24d6",
   "metadata": {},
   "outputs": [],
   "source": [
    "from syotools.wrappers.camera import camera_snr\n",
    "import matplotlib.pyplot as plt "
   ]
  },
  {
   "cell_type": "code",
   "execution_count": 2,
   "id": "5d0ae6a3-71dd-48ef-ad16-5287826f3916",
   "metadata": {},
   "outputs": [
    {
     "name": "stdout",
     "output_type": "stream",
     "text": [
      "Warning, 5 of 20000 bins contained negative fluxes; they have been set to zero.\n"
     ]
    },
    {
     "name": "stderr",
     "output_type": "stream",
     "text": [
      "/Users/tumlinson/anaconda3/envs/hwotools/lib/python3.12/site-packages/pysynphot/units.py:824: RuntimeWarning: divide by zero encountered in log\n",
      "  return -1.085736 * N.log(arg) + ABZERO\n"
     ]
    },
    {
     "name": "stdout",
     "output_type": "stream",
     "text": [
      "Warning, 3590 of 20000 bins contained negative fluxes; they have been set to zero.\n",
      "Warning, 293 of 2920 bins contained negative fluxes; they have been set to zero.\n"
     ]
    }
   ],
   "source": [
    "snr, hri = camera_snr('EAC1', 'flat', 31., 10., silent=True) "
   ]
  },
  {
   "cell_type": "code",
   "execution_count": 8,
   "id": "638c1eba-8b0b-487f-918a-89daa9617b28",
   "metadata": {},
   "outputs": [
    {
     "name": "stdout",
     "output_type": "stream",
     "text": [
      "Help on function camera_snr in module syotools.wrappers.camera:\n",
      "\n",
      "camera_snr(telescope, template, mag, exptime, silent=True)\n",
      "    Run a basic SNR calculation that takes in a telescope,\n",
      "    spectral template, normalization magnitude, and exptime\n",
      "    to compute SNR. For converting magnitude, template,\n",
      "    and SNR to exptime, use camera_exptime.py\n",
      "\n",
      "      usage:\n",
      "         snr, hri = camera_snr(telescope, template, mag, snr_goal)\n",
      "\n",
      "        positional arguments:\n",
      "\n",
      "         1-telescope = 'EAC1', 'EAC2', or 'EAC3'. This argument is a string.\n",
      "           EAC1 = 6 m inner diameter, 7.2 outer diameter hex pattern, off-axis\n",
      "           EAC2 = 6 m diameter off-axis\n",
      "           EAC3 = 8 m diameter on-axis\n",
      "\n",
      "         2-template = your choice of spectral template:\n",
      "             'Classical T Tauri', 'M1 Dwarf', 'G Dwarf', '10 Myr Starburst', 'QSO',\n",
      "             'Seyfert 1', 'Seyfert 2', 'Liner', 'O5V Star', 'G2V Star', 'Orion Nebula',\n",
      "             'G191B2B (WD)', 'GD71 (WD)', 'GD153 (WD)', 'Starburst, No Dust',\n",
      "             'Starburst, E(B-V) = 0.6', 'B5V Star', 'M2V Sta', 'Elliptical Galaxy',\n",
      "             'Sbc Galaxy', 'Starburst Galaxy', 'NGC 1068', 'Galaxy with f_esc, HI=1, HeI=1',\n",
      "             'Galaxy with f_esc, HI=0.001, HeI=1', 'Blackbody5000', 'Blackbody100000'\n",
      "\n",
      "         3-mag = V magnitude to normalize the template spectrum, a float.\n",
      "\n",
      "         4-exptime =  desired exptime in hours\n",
      "\n",
      "         outputs are arrays with the SNR in each band for FUV, NUV, U, B, V, R, I, J, H, K\n",
      "         and the camera object \"hri\"\n",
      "\n"
     ]
    }
   ],
   "source": [
    "help(camera_snr) "
   ]
  },
  {
   "cell_type": "code",
   "execution_count": 3,
   "id": "b234cf16-aa1d-4606-8316-829df41fd29a",
   "metadata": {},
   "outputs": [],
   "source": [
    "from syotools.wrappers.camera import camera_exptime"
   ]
  },
  {
   "cell_type": "code",
   "execution_count": 4,
   "id": "9a819de5",
   "metadata": {},
   "outputs": [],
   "source": [
    "exptime, hri = camera_exptime('EAC1', 'Flat', 31., 10., silent=True) "
   ]
  },
  {
   "cell_type": "code",
   "execution_count": 5,
   "id": "13f60572",
   "metadata": {},
   "outputs": [
    {
     "data": {
      "text/latex": [
       "$[31343.262,~25024.941,~15855.866,~14218.802,~19673.818,~35766.137,~70939.637,~28688.976,~44046.255,~16484112] \\; \\mathrm{s}$"
      ],
      "text/plain": [
       "<Quantity [3.13432622e+04, 2.50249415e+04, 1.58558658e+04, 1.42188021e+04,\n",
       "           1.96738175e+04, 3.57661369e+04, 7.09396374e+04, 2.86889756e+04,\n",
       "           4.40462551e+04, 1.64841122e+07] s>"
      ]
     },
     "execution_count": 5,
     "metadata": {},
     "output_type": "execute_result"
    }
   ],
   "source": [
    "exptime"
   ]
  },
  {
   "cell_type": "code",
   "execution_count": 9,
   "id": "1ebbcb38-db05-4543-9e58-8e75e4a0a6ee",
   "metadata": {},
   "outputs": [
    {
     "name": "stdout",
     "output_type": "stream",
     "text": [
      "Help on function camera_exptime in module syotools.wrappers.camera:\n",
      "\n",
      "camera_exptime(telescope, template, mag, snr_goal, silent=True)\n",
      "    Run a basic SNR calculation that takes in a telescope,\n",
      "    spectral template, normalization magnitude, and SNR goal\n",
      "    to compute exptime. For converting magnitude, template,\n",
      "    and exptime to SNR, use camera_snr.py\n",
      "\n",
      "      usage:\n",
      "        exptime, hri = camera_exptime(telescope, template, mag, snr_goal)\n",
      "\n",
      "        positional arguments:\n",
      "\n",
      "         1-telescope = 'EAC1', 'EAC2', or 'EAC3'. This argument is a string.\n",
      "           EAC1 = 6 m inner diameter, 7.2 outer diameter hex pattern, off-axis\n",
      "           EAC2 = 6 m diameter off-axis\n",
      "           EAC3 = 8 m diameter on-axis\n",
      "\n",
      "         2-template = your choice of spectral template:\n",
      "             'Classical T Tauri', 'M1 Dwarf', 'G Dwarf', '10 Myr Starburst', 'QSO',\n",
      "             'Seyfert 1', 'Seyfert 2', 'Liner', 'O5V Star', 'G2V Star', 'Orion Nebula',\n",
      "             'G191B2B (WD)', 'GD71 (WD)', 'GD153 (WD)', 'Starburst, No Dust',\n",
      "             'Starburst, E(B-V) = 0.6', 'B5V Star', 'M2V Sta', 'Elliptical Galaxy',\n",
      "             'Sbc Galaxy', 'Starburst Galaxy', 'NGC 1068', 'Galaxy with f_esc, HI=1, HeI=1',\n",
      "             'Galaxy with f_esc, HI=0.001, HeI=1', 'Blackbody5000', 'Blackbody100000'\n",
      "\n",
      "         3-mag = V magnitude to normalize the template spectrum, a float.\n",
      "\n",
      "         4-snr_goal = desired SNR, per pixel, for each band\n",
      "\n",
      "         outputs are arrays with the SNR in each band for FUV, NUV, U, B, V, R, I, J, H, K\n",
      "\n"
     ]
    }
   ],
   "source": [
    "help(camera_exptime) "
   ]
  },
  {
   "cell_type": "code",
   "execution_count": null,
   "id": "bb50ac29-009b-436c-be3f-fc9147cbfda5",
   "metadata": {},
   "outputs": [],
   "source": []
  }
 ],
 "metadata": {
  "kernelspec": {
   "display_name": "Python 3 (ipykernel)",
   "language": "python",
   "name": "python3"
  },
  "language_info": {
   "codemirror_mode": {
    "name": "ipython",
    "version": 3
   },
   "file_extension": ".py",
   "mimetype": "text/x-python",
   "name": "python",
   "nbconvert_exporter": "python",
   "pygments_lexer": "ipython3",
   "version": "3.12.7"
  }
 },
 "nbformat": 4,
 "nbformat_minor": 5
}
