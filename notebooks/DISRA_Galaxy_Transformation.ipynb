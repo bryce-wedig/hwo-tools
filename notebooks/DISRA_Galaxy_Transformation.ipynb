{
 "cells": [
  {
   "cell_type": "markdown",
   "id": "de56048d-ae24-4da4-8eab-0f1b245f05ad",
   "metadata": {},
   "source": [
    "# DISRA Science Case Module\n",
    "\n",
    "**NAME:** QSO_SURVEY\n",
    "\n",
    "**GOAL:** What happens to the Circumgalactic Medium as massive galaxies quench and transform? \n",
    "\n",
    "**OBJECTIVE:** Obtain QSO absorption-line measurements for > 100 massive galaxies in from z = 0.5-1.5. \n",
    "\n",
    "**CODE PURPOSE:** Process the SDSS/GALEX QSO catalog to optimize the pathlength for z = 0.5 - 1.5 QSO absorbers. For now we are going to do this without any prior knowledge of foreground galaxies. \n",
    "\n",
    "**BACKGROUND:**\n",
    "\n",
    "Over the redshift interval z = 2 to 0.5, the fraction of massive galaxies (>10^10 Msun) that are star forming declines from $\\gtrsim 100\\%$ to $\\lesssim 10\\%$, a phenomenon known as `quenching'. This could be called the \"epoch of galaxy transformation\". Based on data collected at low redshift, we believe that the circumgalactic medium (CGM) of galaxies plays a large role in governing galaxy accretion, and is also the place where galactic feedback in the form of energetic outflows deposits energy and metals. But we do know very little about how the CGM participates in galaxy quenching -- whether it drives quenching by cutting off accretion, or whether it is a passive recipient of internal feedback. This program will use HWO's revolutionary UV capability to extend CGM observations from Hubble, which are limited to $z \\lesssim 1$ by its sensitivity, into the $z > 1$ era when masssive galaxies are in their transformational phase. The figure of merit is pathlength per hour, which determines the number of galaxies whose CGM will be probed as a function of time. \n",
    "\t  \n",
    "**MODIFICATION HISTORY:**\n",
    "\n",
    "[2024-05-08] Started by JT in July 2024 \n"
   ]
  },
  {
   "cell_type": "markdown",
   "id": "56e2dbe2-8481-47d0-a1a5-c71b9eac4bd7",
   "metadata": {},
   "source": [
    "First we will do our basic imports. "
   ]
  },
  {
   "cell_type": "code",
   "execution_count": null,
   "id": "a58ad82a-fb05-4641-8956-d658d459b3b3",
   "metadata": {},
   "outputs": [],
   "source": [
    "import matplotlib.pyplot as plt \n",
    "from astropy.table import Table\n",
    "import numpy as np \n",
    "import astropy.units as u\n",
    "import matplotlib.pyplot as plt \n",
    "from syotools.wrappers.uvspec import uvspec_snr, uvspec_exptime"
   ]
  },
  {
   "cell_type": "markdown",
   "id": "ec2d6341-6fa6-414f-92c2-7f4621778b55",
   "metadata": {},
   "source": [
    "Now we read in a QSO catalog, from a qsocat/GALEX cross-match, filter out QSOs that are too faint or too low in redshift, and plot the distribution of QSO FUV mags vs. redshift to get a sense of the distribution of background sources. The QSO catalog is bundled with hwotools in the \"data\" subdirectory. "
   ]
  },
  {
   "cell_type": "code",
   "execution_count": null,
   "id": "20ea6ed0-55e7-41c5-aaf8-4ddeff5055e3",
   "metadata": {},
   "outputs": [],
   "source": [
    "qsocat = Table.read('../data/dr7qso_galex.fits')\n",
    "qsocat = qsocat['SDSSNAME', 'RA', 'DEC', 'Z', 'PSFMAG_G', 'PSFMAGERR_G', 'FUV_MAG', 'NUV_MAG']\n",
    "qsocat['gal_pathlength'] = qsocat['Z'] - 0.5 - 0.1\n",
    "qsocat['gal_pathlength'][qsocat['gal_pathlength'] < 0.] = 0. "
   ]
  },
  {
   "cell_type": "markdown",
   "id": "3ee2ad30-25b0-4fdf-a64e-a02ef987aa20",
   "metadata": {},
   "source": [
    "We will now filter the QSO catalog for z < 2 and FUV_MAG < 20, and plot it. "
   ]
  },
  {
   "cell_type": "code",
   "execution_count": null,
   "id": "b68def55-4df8-4877-aa98-5dcc92f15fc8",
   "metadata": {},
   "outputs": [],
   "source": [
    "qsocat = qsocat[qsocat['FUV_MAG'] > 0.]\n",
    "qsocat = qsocat[qsocat['FUV_MAG'] < 20.]\n",
    "qsocat = qsocat[qsocat['Z'] < 2.]\n",
    "qsocat = qsocat[qsocat['Z'] > 0.51]\n",
    "plt.scatter(qsocat['Z'], qsocat['FUV_MAG'], marker='o', s=0.1, color='red') \n",
    "qsocat.sort('FUV_MAG') \n",
    "plt.ylim(17,21) \n",
    "plt.xlim(0, 2.)\n",
    "plt.xlabel('Redshift z') \n",
    "_ = plt.ylabel('QSO FUV Mag') "
   ]
  },
  {
   "cell_type": "markdown",
   "id": "2692a524",
   "metadata": {},
   "source": [
    "Now we will write a function that calls the SYOTools uvspec_exptime wrapper around the UVI ETC. To save time, because there are so many QSOs, we will not compute the unique SNR/exptime for each one. Rather, we will compute the values for a small set of magnitudes and then interpolate the exptime for each individual QSO from this curve. "
   ]
  },
  {
   "cell_type": "code",
   "execution_count": null,
   "id": "68d0ab6d-85ea-41a2-bbd5-fe52da20a80e",
   "metadata": {},
   "outputs": [],
   "source": [
    "def qso_exptime(qsocat, snr_goal, eac='EAC3'): \n",
    "    mag_list = (np.arange(11)*0.5 + 15.)  \n",
    "    exptime_list = [] \n",
    "    for mag in mag_list:  \n",
    "        wave120, exp120, uvi = uvspec_exptime(eac, 'G120M', 'flat', mag, snr_goal, silent=True) \n",
    "        exptime_list.append(exp120[8425]/3600.)   #<---- picked 1150 A somewhat arbitrarily, 3600 converts sec to hours \n",
    "        \n",
    "    qsocat[eac + '_exptime_snr_'+str(snr_goal)] = np.interp(qsocat['FUV_MAG'], mag_list, exptime_list) #---- here is the interpolation. \n",
    "    return qsocat "
   ]
  },
  {
   "cell_type": "markdown",
   "id": "bc0db5b5-d8df-44de-97a4-b16d9fdf3589",
   "metadata": {},
   "source": [
    "Now call this function six time to get exposure times for SNR = 10 and 20 for each QSO added to the catalog table. We will do this for all three EACs. "
   ]
  },
  {
   "cell_type": "code",
   "execution_count": null,
   "id": "3a9db603-96a4-4d87-82bc-61a1fc92c63d",
   "metadata": {},
   "outputs": [],
   "source": [
    "qsocat = qso_exptime(qsocat, 10, 'EAC1')   \n",
    "qsocat = qso_exptime(qsocat, 20, 'EAC1') \n",
    "\n",
    "qsocat = qso_exptime(qsocat, 10, 'EAC2')   \n",
    "qsocat = qso_exptime(qsocat, 20, 'EAC2')  \n",
    "\n",
    "qsocat = qso_exptime(qsocat, 10, 'EAC3')   \n",
    "qsocat = qso_exptime(qsocat, 20, 'EAC3')  "
   ]
  },
  {
   "cell_type": "markdown",
   "id": "f5d757f9",
   "metadata": {},
   "source": [
    "Print out the first few lines of the table to ensure things make sense. "
   ]
  },
  {
   "cell_type": "code",
   "execution_count": null,
   "id": "8cddb818-7c4a-429b-b4b0-6e9d4272999d",
   "metadata": {},
   "outputs": [],
   "source": [
    "qsocat[0:10]"
   ]
  },
  {
   "cell_type": "markdown",
   "id": "c68f47dc",
   "metadata": {},
   "source": [
    "Now we will derive this DISRA case's Figure of Merit for targets, which is the cosmic pathlength $\\Delta z$ per hour of exposure time. \n",
    "We will do this for SNR = 10 and SNR = 20 "
   ]
  },
  {
   "cell_type": "code",
   "execution_count": null,
   "id": "3a3dc793-3580-4b40-8241-81ca5c642b37",
   "metadata": {},
   "outputs": [],
   "source": [
    "def get_pathlengths_per_hour(qsocat, eac): \n",
    "    qsocat[eac+'_pathlength_per_hour_sn10'] = qsocat['gal_pathlength'] / qsocat[eac+'_exptime_snr_10']\n",
    "    qsocat[eac+'_pathlength_per_hour_sn20'] = qsocat['gal_pathlength'] / qsocat[eac+'_exptime_snr_20']\n",
    "    qsocat[eac+'_total_exposure_time_sn10'] = qsocat['Z'] * 0.0 \n",
    "    qsocat[eac+'_total_exposure_time_sn20'] = qsocat['Z'] * 0.0 \n",
    "    qsocat[eac+'_total_pathlength_sn10'] = qsocat['Z'] * 0.0 \n",
    "    qsocat[eac+'_total_pathlength_sn20'] = qsocat['Z'] * 0.0 "
   ]
  },
  {
   "cell_type": "code",
   "execution_count": null,
   "id": "9447b1b5-37cb-4287-8f30-e90f9346d76e",
   "metadata": {},
   "outputs": [],
   "source": [
    "get_pathlengths_per_hour(qsocat, 'EAC1') \n",
    "get_pathlengths_per_hour(qsocat, 'EAC2') \n",
    "get_pathlengths_per_hour(qsocat, 'EAC3') "
   ]
  },
  {
   "cell_type": "markdown",
   "id": "9def3f53-fbf2-49e7-a4a5-3e71c485bcbf",
   "metadata": {},
   "source": [
    "Sort the table so that the most valuable targets, those with the highest pathlength per hour of exposure, are ranked highest. Then we'll plot the results. "
   ]
  },
  {
   "cell_type": "code",
   "execution_count": null,
   "id": "035542c6-9cf4-4297-ab6a-0167fc6c0fe8",
   "metadata": {},
   "outputs": [],
   "source": [
    "qsocat.sort('EAC1_pathlength_per_hour_sn10', reverse=True)"
   ]
  },
  {
   "cell_type": "code",
   "execution_count": null,
   "id": "d608349a",
   "metadata": {},
   "outputs": [],
   "source": [
    "plt.scatter(qsocat['Z'], qsocat['EAC1_pathlength_per_hour_sn10'], linestyle='solid', label='SNR = 10')\n",
    "plt.scatter(qsocat['Z'], qsocat['EAC1_pathlength_per_hour_sn20'], color='orange', label='SNR = 20')\n",
    "plt.legend() \n",
    "plt.xlabel('QSO Redshift')\n",
    "plt.ylabel('Pathlength per Hour') \n",
    "_ = plt.title('Pathlength per Hour, EAC1 only') "
   ]
  },
  {
   "cell_type": "markdown",
   "id": "6e5b1940-f254-4a4f-a811-1bec1917d7c6",
   "metadata": {},
   "source": [
    "Now we need to get the *cumulative* pathlength for each case, SNR = 10, 20 and the three EACs "
   ]
  },
  {
   "cell_type": "code",
   "execution_count": null,
   "id": "034f4736",
   "metadata": {},
   "outputs": [],
   "source": [
    "def get_cumulative_pathlength(qsocat, eac): \n",
    "\n",
    "    total_exp_10 = 0.0 \n",
    "    total_exp_20 = 0.0 \n",
    "    total_path = 0.\n",
    "\n",
    "    for row in qsocat:    \n",
    "        total_exp_10 = total_exp_10 + row[eac+'_exptime_snr_10']   \n",
    "        row[eac+'_total_exposure_time_sn10'] = total_exp_10\n",
    "        total_exp_20 = total_exp_20 + row[eac+'_exptime_snr_20']   \n",
    "        row[eac+'_total_exposure_time_sn20'] = total_exp_20\n",
    "        total_path = total_path + row['gal_pathlength']\n",
    "        row[eac+'_total_pathlength_sn10'] = total_path\n",
    "        row[eac+'_total_pathlength_sn20'] = total_path\n",
    "        "
   ]
  },
  {
   "cell_type": "code",
   "execution_count": null,
   "id": "fda1f18b-66e5-421f-aaf8-ac842a331086",
   "metadata": {},
   "outputs": [],
   "source": [
    "get_cumulative_pathlength(qsocat, 'EAC1') \n",
    "get_cumulative_pathlength(qsocat, 'EAC2') \n",
    "get_cumulative_pathlength(qsocat, 'EAC3') "
   ]
  },
  {
   "cell_type": "markdown",
   "id": "ddffd041-576c-4de2-b1ee-6c86b362368a",
   "metadata": {},
   "source": [
    "Now we plot the total pathlength over total exposure time, so we can see how many hours must be invested to reach a certain pathlength. "
   ]
  },
  {
   "cell_type": "code",
   "execution_count": null,
   "id": "2e0b8610-c6c2-4bcb-a956-3b016bb34fb7",
   "metadata": {
    "scrolled": true
   },
   "outputs": [],
   "source": [
    "plt.plot(qsocat['EAC1_total_exposure_time_sn10'], qsocat['EAC1_total_pathlength_sn10'], label='EAC1, SNR = 10', color='blue')\n",
    "plt.plot(qsocat['EAC1_total_exposure_time_sn20'], qsocat['EAC1_total_pathlength_sn20'], label='EAC1, SNR = 20', color='orange')\n",
    "plt.plot(qsocat['EAC3_total_exposure_time_sn10'], qsocat['EAC3_total_pathlength_sn10'], linestyle = 'dashed', label='EAC3, SNR = 10', color='blue')\n",
    "plt.plot(qsocat['EAC3_total_exposure_time_sn20'], qsocat['EAC3_total_pathlength_sn20'], linestyle = 'dashed', label='EAC3, SNR = 20', color='orange')\n",
    "\n",
    "plt.xlabel('Total Hours')\n",
    "plt.legend() \n",
    "plt.xlim(-10,500) \n",
    "plt.ylim(-100,1000) \n",
    "plt.title('Total Pathlength vs. Exposure Time') \n",
    "_ = plt.ylabel('Total Pathlength') "
   ]
  },
  {
   "cell_type": "code",
   "execution_count": null,
   "id": "d9599ff8-9687-4511-a6ff-0a22245efeaa",
   "metadata": {},
   "outputs": [],
   "source": []
  },
  {
   "cell_type": "code",
   "execution_count": null,
   "id": "2042f170-6b14-478b-836e-322f8dc33822",
   "metadata": {},
   "outputs": [],
   "source": []
  },
  {
   "cell_type": "code",
   "execution_count": null,
   "id": "324822c2-5c97-4ced-93e7-2fbb4621438a",
   "metadata": {},
   "outputs": [],
   "source": []
  },
  {
   "cell_type": "code",
   "execution_count": null,
   "id": "3cff1057-cc1c-4f01-989d-b4fcc1ffc977",
   "metadata": {},
   "outputs": [],
   "source": []
  },
  {
   "cell_type": "code",
   "execution_count": null,
   "id": "bd6eb83e-a8b4-4544-9268-4db6ebe36ac7",
   "metadata": {},
   "outputs": [],
   "source": []
  }
 ],
 "metadata": {
  "kernelspec": {
   "display_name": "Python 3 (ipykernel)",
   "language": "python",
   "name": "python3"
  },
  "language_info": {
   "codemirror_mode": {
    "name": "ipython",
    "version": 3
   },
   "file_extension": ".py",
   "mimetype": "text/x-python",
   "name": "python",
   "nbconvert_exporter": "python",
   "pygments_lexer": "ipython3",
   "version": "3.12.7"
  }
 },
 "nbformat": 4,
 "nbformat_minor": 5
}
