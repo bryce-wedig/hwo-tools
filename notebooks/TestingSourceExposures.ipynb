{
 "cells": [
  {
   "cell_type": "markdown",
   "id": "0ac19c39-6a99-4130-9678-8c038e818ef4",
   "metadata": {},
   "source": [
    "### Testing SYOTools Exposures with Source Objects Included"
   ]
  },
  {
   "cell_type": "markdown",
   "id": "f97a0b58-7b44-456a-8903-1900015d4d3d",
   "metadata": {},
   "source": [
    "In November 2024 a new Source object was added to SYOTools. First we do our basic imports and set up the telescope and camera objects "
   ]
  },
  {
   "cell_type": "code",
   "execution_count": 1,
   "id": "8222ed35-d04c-4d67-8b05-f143ccc28321",
   "metadata": {},
   "outputs": [
    {
     "name": "stdout",
     "output_type": "stream",
     "text": [
      "Warning, 5 of 20000 bins contained negative fluxes; they have been set to zero.\n"
     ]
    },
    {
     "name": "stderr",
     "output_type": "stream",
     "text": [
      "/Users/tumlinson/anaconda3/envs/hwotools/lib/python3.12/site-packages/pysynphot/units.py:824: RuntimeWarning: divide by zero encountered in log\n",
      "  return -1.085736 * N.log(arg) + ABZERO\n"
     ]
    },
    {
     "name": "stdout",
     "output_type": "stream",
     "text": [
      "Warning, 3590 of 20000 bins contained negative fluxes; they have been set to zero.\n",
      "Warning, 293 of 2920 bins contained negative fluxes; they have been set to zero.\n",
      "Warning, 5 of 20000 bins contained negative fluxes; they have been set to zero.\n",
      "Warning, 3590 of 20000 bins contained negative fluxes; they have been set to zero.\n",
      "Warning, 293 of 2920 bins contained negative fluxes; they have been set to zero.\n"
     ]
    }
   ],
   "source": [
    "from syotools.models import Camera, Telescope, Spectrograph, Source, SourcePhotometricExposure \n",
    "\n",
    "t, c = Telescope(), Camera() \n",
    "t.set_from_json('EAC1')\n",
    "t.add_camera(c)"
   ]
  },
  {
   "cell_type": "markdown",
   "id": "35b688b7-b92a-48ef-a262-012748b05bbf",
   "metadata": {},
   "source": [
    "Now we create a Source object, which contains the pysynphot object and some metadata. Then we set the SED to be the QSO template, with redshift z = 0.1 and no extinction. We will normlize this to ABmag = 25 "
   ]
  },
  {
   "cell_type": "code",
   "execution_count": 2,
   "id": "f4308799-2152-4399-a8f7-0a1da69ae099",
   "metadata": {},
   "outputs": [],
   "source": [
    "source = Source() \n",
    "source.set_sed('Flat (AB)', 30., 0.0, 0.0, 'galex,fuv')   "
   ]
  },
  {
   "cell_type": "markdown",
   "id": "b48ab9fb-ce5a-46d2-9d27-1276006f7c21",
   "metadata": {},
   "source": [
    "Now we create an exposure object using SourcePhotometricExposure and assign the QSO source to this. "
   ]
  },
  {
   "cell_type": "code",
   "execution_count": 3,
   "id": "b03a5951-839b-4640-ac0d-3c7c9be94672",
   "metadata": {},
   "outputs": [],
   "source": [
    "e = SourcePhotometricExposure() \n",
    "e.source = source"
   ]
  },
  {
   "cell_type": "code",
   "execution_count": 4,
   "id": "547a10fc-3320-4db8-b343-839593a855d5",
   "metadata": {},
   "outputs": [
    {
     "name": "stdout",
     "output_type": "stream",
     "text": [
      "# of exposures: 3\n",
      "Time per exposure: 1200.0 s\n",
      "Signal counts: 161.49, 180.87, 282.61, 340.74, 340.74, 340.74, 234.16, 552.29, 552.29, 540.99  ph\n",
      "Signal shot noise: 12.71, 13.45, 16.81, 18.46, 18.46, 18.46, 15.30, 23.50, 23.50, 23.26  ph(1/2)\n",
      "Sky counts: 50.89, 11.80, 264.05, 543.17, 984.56, 2123.84, 1860.93, 6935.02, 10160.73, 13631.67  ph\n",
      "Sky shot noise: 7.13, 3.44, 16.25, 23.31, 31.38, 46.09, 43.14, 83.28, 100.80, 116.75  ph(1/2)\n",
      "Total read noise: 1200.00, 1200.00, 1200.00, 1200.00, 1518.75, 2700.00, 3168.75, 675.00, 1200.00, 2268.75  ph\n",
      "Dark current noise: 460.80, 460.80, 460.80, 460.80, 583.20, 1036.80, 1216.80, 259.20, 460.80, 871.20  ph\n",
      "Thermal counts: 0.00, 0.00, 0.00, 0.00, 0.00, 0.00, 0.00, 0.08, 537.58, 4082433.55  ph\n",
      "\n",
      "SNR: [3.73124408 4.20115939 6.01499353 6.75470582 5.82039989 4.32695063\n",
      " 2.90872445 6.01828566 4.86052245 0.26718371] ph(1/2)\n",
      "\n",
      "Max SNR: 6.75470581655672 ph(1/2) in B band\n"
     ]
    }
   ],
   "source": [
    "c.add_exposure(e)"
   ]
  },
  {
   "cell_type": "code",
   "execution_count": 5,
   "id": "8e7852e5-c45f-450b-b0e5-316d1b223e00",
   "metadata": {},
   "outputs": [
    {
     "name": "stdout",
     "output_type": "stream",
     "text": [
      "[3.73124408 4.20115939 6.01499353 6.75470582 5.82039989 4.32695063\n",
      " 2.90872445 6.01828566 4.86052245 0.26718371] ph(1/2)\n"
     ]
    }
   ],
   "source": [
    "print(e.snr)"
   ]
  },
  {
   "cell_type": "code",
   "execution_count": 6,
   "id": "75345305-7073-4b09-8ba5-09e6ccb9fec3",
   "metadata": {},
   "outputs": [
    {
     "data": {
      "text/latex": [
       "$\\mathrm{ph^{1/2}}$"
      ],
      "text/plain": [
       "Unit(\"ph(1/2)\")"
      ]
     },
     "execution_count": 6,
     "metadata": {},
     "output_type": "execute_result"
    }
   ],
   "source": [
    "e.snr.unit"
   ]
  },
  {
   "cell_type": "code",
   "execution_count": null,
   "id": "c7283a51-42a8-44e7-817f-731c8a921e2d",
   "metadata": {},
   "outputs": [],
   "source": []
  },
  {
   "cell_type": "code",
   "execution_count": null,
   "id": "c853482a-10d7-4ca8-9b98-b7364fd208b3",
   "metadata": {},
   "outputs": [],
   "source": []
  },
  {
   "cell_type": "code",
   "execution_count": null,
   "id": "a6294280-5583-4244-b20e-7684e20ebc87",
   "metadata": {},
   "outputs": [],
   "source": []
  },
  {
   "cell_type": "code",
   "execution_count": null,
   "id": "46e6d957-7aa1-4410-9797-fc9ed8995262",
   "metadata": {},
   "outputs": [],
   "source": []
  }
 ],
 "metadata": {
  "kernelspec": {
   "display_name": "Python 3 (ipykernel)",
   "language": "python",
   "name": "python3"
  },
  "language_info": {
   "codemirror_mode": {
    "name": "ipython",
    "version": 3
   },
   "file_extension": ".py",
   "mimetype": "text/x-python",
   "name": "python",
   "nbconvert_exporter": "python",
   "pygments_lexer": "ipython3",
   "version": "3.12.7"
  }
 },
 "nbformat": 4,
 "nbformat_minor": 5
}
