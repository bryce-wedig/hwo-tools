{
 "cells": [
  {
   "cell_type": "markdown",
   "id": "c8cdf982-f829-4e74-a7d0-8245bb67e9d3",
   "metadata": {},
   "source": [
    "This notebook implements a camera wrapper-style functionality with the new Source & SourcePhotometricExposure objects "
   ]
  },
  {
   "cell_type": "code",
   "execution_count": 56,
   "id": "4349a4da-dec3-4da5-8a98-812e0ae0115a",
   "metadata": {},
   "outputs": [],
   "source": [
    "def uvspec_exptime(telescope, mode, template, fuvmag, snr_goal, silent=False): \n",
    "    \n",
    "    ''' Run a basic SNR calculation that takes in a telescope, \n",
    "      spectral template, normalization magnitude, and SNR goal  \n",
    "      to compute exposure time. For converting magnitude, template, \n",
    "      and exptime to SNR, use uvspec_snr.py \n",
    "      \n",
    "        usage: \n",
    "\t       wave, exptime, uvi = uvspec_exptime(telescope, mode, template, uvmag, snr_goal) \n",
    "\n",
    "          positional arguments:\n",
    "\n",
    "           1-telescope = 'EAC1', 'EAC2', or 'EAC3'. This argument is a string. \n",
    "             EAC1 = 6 m inner diameter, 7.2 outer diameter hex pattern, off-axis \n",
    "             EAC2 = 6 m diameter off-axis \n",
    "             EAC3 = 8 m diameter on-axis \n",
    "\n",
    "           2-mode = your choice of UVI grating, a string: \n",
    "\t\t        ['G120M', 'G150M', 'G180M', 'G155L', 'G145LL', 'G300M']\n",
    "\n",
    "           3-template = your choice of spectral template: \n",
    "\t          \t['flam', 'qso', 's99', 'o5v', 'g2v', 'g191b2b', 'gd71', 'gd153', 'ctts', \n",
    "                        'mdwarf', 'orion', 'nodust', 'ebv6', 'hi1hei1', 'hi0hei1']\n",
    "\n",
    "           4-fuvmag = FUV magnitude to normalize the template spectrum, a float. \n",
    "\n",
    "\t         5-snr_goal = desired SNR, per pixel \n",
    "\n",
    "         outputs are two arrays of floats for wavelength and exptime and the Spectrograph \n",
    "\t\t     object in case it is needed by other code. \n",
    "       '''  \n",
    "    \n",
    "    from syotools.models import Telescope, Spectrograph, Source, SourceSpectrographicExposure\n",
    "    import astropy.units as u\n",
    "\n",
    "    # create the basic objects \n",
    "    uvi, tel = Spectrograph(), Telescope() \n",
    "    tel.set_from_json(telescope)\n",
    "    tel.add_spectrograph(uvi)\n",
    "    uvi.mode = mode\n",
    "\n",
    "    source = Source() \n",
    "    redshift = 0.0 \n",
    "    extinction = 0.0 \n",
    "    source.set_sed(template, fuvmag, redshift, extinction, 'galex,fuv')   \n",
    "\n",
    "    uvi_exp = SourceSpectrographicExposure() \n",
    "    uvi_exp.source = source\n",
    "    uvi_exp.verbose = True \n",
    "    uvi.add_exposure(uvi_exp) \n",
    "\n",
    "    uvi_exp.verbose = False \n",
    "    if (silent):  uvi_exp.verbose = False \n",
    "\n",
    "    if not silent: \n",
    "        print(\"Current SED template: {}\".format(source.sed.name)) \n",
    "        print(\"Current grating mode: {}\".format(uvi.descriptions[uvi.mode])) \n",
    "        print(\"Current exposure time: {} hours\\n\".format(uvi_exp.exptime)) \n",
    "    \n",
    "    uvi_exp._snr_goal= snr_goal * (u.ct)**0.5 / (u.pix)**0.5\n",
    "\n",
    "    snr = uvi_exp.recover('exptime')\n",
    "    uvi_exp.unknown = 'exptime' #< --- this triggers the _update_exptime function in the SpectrographicExposure exposure object \n",
    "\n",
    "    uvi_exptime = uvi_exp.recover('exptime')\n",
    "\n",
    "    wave, exptime =  uvi.wave, uvi_exp.exptime\n",
    "\n",
    "    return wave, exptime, uvi "
   ]
  },
  {
   "cell_type": "code",
   "execution_count": 57,
   "id": "77046760-537b-495d-8a20-c3808269c1c5",
   "metadata": {},
   "outputs": [
    {
     "name": "stdout",
     "output_type": "stream",
     "text": [
      "Creating exposure for HWO-EAC-1 (7.2 m) with UVI in mode G180M\n",
      "exptime in _update_snr 3600.0 s\n",
      "SNR: [7.0548247  7.0547454  7.05464626 ... 9.13293211 9.13276366 9.13257988] ct(1/2) / pix(1/2)\n",
      "Current SED template: Flat spectrum of 30 abmag * 0.999785 at z=0 * MWAvg(EBV=0) * 25118.9\n",
      "Current grating mode: G180M (R = 40,800)\n",
      "Current exposure time: [[1.0, 1.0, 1.0, 1.0, 1.0, 1.0, 1.0, 1.0, 1.0, 1.0], 'hr'] hours\n",
      "\n"
     ]
    }
   ],
   "source": [
    "wave, snr, uvi = uvspec_exptime('EAC1', 'G180M', 'Flat (AB)', 19., 1., silent=False)"
   ]
  },
  {
   "cell_type": "code",
   "execution_count": 40,
   "id": "334d3b91-27fd-4ffd-b74b-dc612b144935",
   "metadata": {},
   "outputs": [],
   "source": [
    "import matplotlib.pyplot as plt"
   ]
  },
  {
   "cell_type": "code",
   "execution_count": 41,
   "id": "1bcdab72-df63-4825-8b8c-d731e49d260b",
   "metadata": {},
   "outputs": [
    {
     "data": {
      "text/plain": [
       "[<matplotlib.lines.Line2D at 0x12f533ce0>]"
      ]
     },
     "execution_count": 41,
     "metadata": {},
     "output_type": "execute_result"
    },
    {
     "data": {
      "image/png": "[encoded data removed]",
      "text/plain": [
       "<Figure size 640x480 with 1 Axes>"
      ]
     },
     "metadata": {},
     "output_type": "display_data"
    }
   ],
   "source": [
    "plt.plot(wave, snr) "
   ]
  },
  {
   "cell_type": "code",
   "execution_count": null,
   "id": "5adc3318-7e32-432b-9c4d-6b40158015ec",
   "metadata": {},
   "outputs": [],
   "source": []
  },
  {
   "cell_type": "code",
   "execution_count": null,
   "id": "c71f571c-0379-4d5a-bc5f-6c36411f9dd2",
   "metadata": {},
   "outputs": [],
   "source": []
  },
  {
   "cell_type": "code",
   "execution_count": null,
   "id": "afe87148-7833-40f4-8581-4590c1494d7c",
   "metadata": {},
   "outputs": [],
   "source": []
  },
  {
   "cell_type": "code",
   "execution_count": null,
   "id": "cbd4bb43-ab3b-447d-bd1d-2f8b8e5845ad",
   "metadata": {},
   "outputs": [],
   "source": []
  },
  {
   "cell_type": "code",
   "execution_count": null,
   "id": "9f11464e-4b64-40ea-8445-b27c38a8791e",
   "metadata": {},
   "outputs": [],
   "source": []
  },
  {
   "cell_type": "code",
   "execution_count": null,
   "id": "f04d1430-a47f-4492-8849-83a6beed6d38",
   "metadata": {},
   "outputs": [],
   "source": []
  }
 ],
 "metadata": {
  "kernelspec": {
   "display_name": "Python 3 (ipykernel)",
   "language": "python",
   "name": "python3"
  },
  "language_info": {
   "codemirror_mode": {
    "name": "ipython",
    "version": 3
   },
   "file_extension": ".py",
   "mimetype": "text/x-python",
   "name": "python",
   "nbconvert_exporter": "python",
   "pygments_lexer": "ipython3",
   "version": "3.12.7"
  }
 },
 "nbformat": 4,
 "nbformat_minor": 5
}
