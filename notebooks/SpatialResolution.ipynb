{
 "cells": [
  {
   "cell_type": "markdown",
   "id": "4305ab25-498d-4bad-9797-93f9a593edc4",
   "metadata": {},
   "source": [
    "### This notebook calculates the physical size of the HWO spatial resolution and compares it to other observatories. "
   ]
  },
  {
   "cell_type": "markdown",
   "id": "db1f0bbf-5d1e-460f-b480-87e6b6c466ba",
   "metadata": {},
   "source": [
    "First we have to import the basics we will need for calcuations and plots. "
   ]
  },
  {
   "cell_type": "code",
   "execution_count": null,
   "id": "80ceef47-369b-4f17-ac17-7e296eee0495",
   "metadata": {},
   "outputs": [],
   "source": [
    "from hwo_sci_eng.utils import read_yaml \n",
    "import astropy.units as u, numpy as np \n",
    "import matplotlib.pyplot as plt \n",
    "from astropy.cosmology import Planck18 \n",
    "import matplotlib.ticker as ticker"
   ]
  },
  {
   "cell_type": "markdown",
   "id": "2bf64326-f1b5-4b97-85d3-97409f0e5133",
   "metadata": {},
   "source": [
    "Now we will create similar information for JWST and HST. This includes the three EACs and a user-defined \"my_telescope\" for which you can set your own favorite size and diffraction limited wavelength.  "
   ]
  },
  {
   "cell_type": "code",
   "execution_count": null,
   "id": "588a6a5d-4322-44de-af98-879bb827220e",
   "metadata": {},
   "outputs": [],
   "source": [
    "eac1 = {'effective_aperture': 6.54 * u.m, 'diff_limited_wavelength':0.5 * u.micron} \n",
    "eac2 = {'effective_aperture': 6.0  * u.m, 'diff_limited_wavelength':0.5 * u.micron} \n",
    "eac3 = {'effective_aperture': 8.0  * u.m, 'diff_limited_wavelength':0.5 * u.micron} \n",
    "\n",
    "my_telescope = {'effective_aperture': 12.0  * u.m, 'diff_limited_wavelength':0.5 * u.micron} \n",
    "\n",
    "hst =  {'effective_aperture': 2.4  * u.m, 'diff_limited_wavelength':0.5 * u.micron} \n",
    "jwst = {'effective_aperture': 6.5  * u.m, 'diff_limited_wavelength':1.1 * u.micron} "
   ]
  },
  {
   "cell_type": "markdown",
   "id": "d3ebd515-e2c9-43b1-ac89-b485a78be3cc",
   "metadata": {},
   "source": [
    "Set up a 1D array of redshifts, and convert to distance using the cosmology model. "
   ]
  },
  {
   "cell_type": "code",
   "execution_count": null,
   "id": "91c09701-0f72-4bc5-b0ae-6eedf9c925f8",
   "metadata": {},
   "outputs": [],
   "source": [
    "log_redshift = np.arange(1001)/100. - 9. \n",
    "redshift = 10.**log_redshift\n",
    "distance = (Planck18.comoving_distance(redshift)).to(u.kpc) "
   ]
  },
  {
   "cell_type": "markdown",
   "id": "2b9adb8d-47a1-47c2-ae76-45383aad0354",
   "metadata": {},
   "source": [
    "Create a function that generates physical sizes of the diffraction limited resolution element that we can use for different telescopes. "
   ]
  },
  {
   "cell_type": "code",
   "execution_count": null,
   "id": "ef6c55b5-1f67-4f39-b8ee-a6d3b408ae88",
   "metadata": {},
   "outputs": [],
   "source": [
    "def get_psf_size(telescope, redshift): \n",
    "    psf_fwhm = 1.22 * u.rad * telescope['diff_limited_wavelength'].to(u.m) / telescope['effective_aperture'] * (206265. / u.rad * u.arcsec)\n",
    "    parsecs_per_arcsec = ( Planck18.kpc_proper_per_arcmin(redshift) ).to('parsec/arcsec') \n",
    "    size_of_psf = psf_fwhm * parsecs_per_arcsec\n",
    "    return size_of_psf"
   ]
  },
  {
   "cell_type": "code",
   "execution_count": null,
   "id": "3d25ffc7-480c-4e73-921e-58f415a5bbf8",
   "metadata": {},
   "outputs": [],
   "source": [
    "Make a "
   ]
  },
  {
   "cell_type": "code",
   "execution_count": null,
   "id": "55dc931f-2be8-4306-8349-64a5e2fbf72f",
   "metadata": {},
   "outputs": [],
   "source": [
    "hst_size = get_psf_size(hst, redshift) \n",
    "jwst_size = get_psf_size(jwst, redshift) \n",
    "eac1_size = get_psf_size(eac1, redshift) \n",
    "eac2_size = get_psf_size(eac2, redshift)\n",
    "eac3_size = get_psf_size(eac3, redshift) \n",
    "my_telescope_size = get_psf_size(my_telescope, redshift) "
   ]
  },
  {
   "cell_type": "code",
   "execution_count": null,
   "id": "d6f51feb-c3e6-4fd7-8d3d-95dfdcd21ff4",
   "metadata": {},
   "outputs": [],
   "source": [
    "fig, ax = plt.subplots()\n",
    "\n",
    "ax.plot(np.log10(distance.value), np.log10(hst_size.value), label='HST @ 0.5 micron', color='blue') \n",
    "ax.plot(np.log10(distance.value), np.log10(jwst_size.value), label='JWST @ 1.1 micron', color='red') \n",
    "ax.plot(np.log10(distance.value), np.log10(eac1_size.value), label='EAC1 @ 0.5 micron', color='orange') \n",
    "ax.plot(np.log10(distance.value), np.log10(eac2_size.value), label='EAC2 @ 0.5 micron', color='pink')  \n",
    "ax.plot(np.log10(distance.value), np.log10(eac3_size.value), label='EAC3 @ 0.5 micron', color='purple') \n",
    "ax.plot(np.log10(distance.value), np.log10(my_telescope_size.value), label='12 m @ 0.5 micron', color='green') \n",
    "\n",
    "plt.xlim(-2, 7)\n",
    "plt.ylim(-6, 3) \n",
    "plt.xlabel('Distance')  \n",
    "plt.ylabel('Physical Size of Spatial Resolution Element') \n",
    "ax = plt.gca()  \n",
    "ax.yaxis.set_major_locator(ticker.FixedLocator([np.log10(( 1. * u.au).to(u.pc).value ) , np.log10((10. * u.au).to(u.pc).value), np.log10(( 100. * u.au).to(u.pc).value ) , np.log10((1000. * u.au).to(u.pc).value ) , -1, 0, 1, 2, 3]))\n",
    "ax.xaxis.set_major_locator(ticker.FixedLocator([-2,-1,0,1,2,3,4,5,6,7])) \n",
    "plt.legend() \n",
    "_ = ax.set_xticklabels(['10 pc', '100 pc', '1 kpc', '10 kpc', '100 kpc', '1 Mpc', '10 Mpc', '100 Mpc', '1 Gpc', '10 Gpc'])\n",
    "_ = ax.set_yticklabels(['1 AU', '10 AU', '100 AU', '1000 AU', '0.1 pc', '1 pc', '10 pc', '100 pc', '1 kpc'])\n",
    "plt.grid(axis='x', color='0.95')\n",
    "plt.grid(axis='y', color='0.95')\n",
    "\n",
    "ax2 = fig.add_axes([0.7, 0.2, 0.18, 0.34])\n",
    "ax2.set_xlim(0, 3)\n",
    "ax2.set_ylim(0,500)\n",
    "ax2.get_xaxis().set_visible(False)\n",
    "ax2.plot(redshift, hst_size.value, color='blue') \n",
    "ax2.plot(redshift, jwst_size.value, color='red') \n",
    "ax2.plot(redshift, eac1_size.value, color='orange') \n",
    "ax2.plot(redshift, eac3_size.value, color='purple') \n",
    "ax2.plot(redshift, my_telescope_size.value, color='green') \n",
    "ax2.grid(axis='x', color='0.95')\n",
    "ax2.grid(axis='y', color='0.8')\n",
    "ax2.set_ylabel('Size in parsecs') \n",
    "_ = ax2.set_xlabel('Redshift') \n",
    "\n",
    "# top redshift axis \n",
    "z_ax = ax2.twiny()\n",
    "z_ax.set_xlim(ax2.get_xlim())\n",
    "z_ax.xaxis.set_major_locator(ticker.FixedLocator([0, 1, 2, 3])) \n",
    "_ = z_ax.set_xlabel('Redshift') "
   ]
  },
  {
   "cell_type": "code",
   "execution_count": null,
   "id": "80c4dad0-2829-4afe-b2d4-03752644a153",
   "metadata": {},
   "outputs": [],
   "source": []
  }
 ],
 "metadata": {
  "kernelspec": {
   "display_name": "Python 3 (ipykernel)",
   "language": "python",
   "name": "python3"
  },
  "language_info": {
   "codemirror_mode": {
    "name": "ipython",
    "version": 3
   },
   "file_extension": ".py",
   "mimetype": "text/x-python",
   "name": "python",
   "nbconvert_exporter": "python",
   "pygments_lexer": "ipython3",
   "version": "3.12.7"
  }
 },
 "nbformat": 4,
 "nbformat_minor": 5
}
