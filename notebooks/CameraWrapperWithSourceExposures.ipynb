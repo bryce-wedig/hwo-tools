{
 "cells": [
  {
   "cell_type": "markdown",
   "id": "c8cdf982-f829-4e74-a7d0-8245bb67e9d3",
   "metadata": {},
   "source": [
    "This notebook implements a camera wrapper-style functionality with the new Source & SourcePhotometricExposure objects "
   ]
  },
  {
   "cell_type": "code",
   "execution_count": 1,
   "id": "2f39d3c5-07fa-43e1-9dfa-9b26462a1b8a",
   "metadata": {},
   "outputs": [
    {
     "name": "stdout",
     "output_type": "stream",
     "text": [
      "Warning, 5 of 20000 bins contained negative fluxes; they have been set to zero.\n"
     ]
    },
    {
     "name": "stderr",
     "output_type": "stream",
     "text": [
      "/Users/tumlinson/anaconda3/envs/hwotools/lib/python3.12/site-packages/pysynphot/units.py:824: RuntimeWarning: divide by zero encountered in log\n",
      "  return -1.085736 * N.log(arg) + ABZERO\n"
     ]
    },
    {
     "name": "stdout",
     "output_type": "stream",
     "text": [
      "Warning, 3590 of 20000 bins contained negative fluxes; they have been set to zero.\n",
      "Warning, 293 of 2920 bins contained negative fluxes; they have been set to zero.\n",
      "Warning, 5 of 20000 bins contained negative fluxes; they have been set to zero.\n",
      "Warning, 3590 of 20000 bins contained negative fluxes; they have been set to zero.\n",
      "Warning, 293 of 2920 bins contained negative fluxes; they have been set to zero.\n"
     ]
    }
   ],
   "source": [
    "from syotools.models import Camera, Telescope, Spectrograph, Source, SourcePhotometricExposure\n",
    "import numpy as np, astropy.units as u \n",
    "from syotools.defaults import default_camera"
   ]
  },
  {
   "cell_type": "code",
   "execution_count": 19,
   "id": "4349a4da-dec3-4da5-8a98-812e0ae0115a",
   "metadata": {},
   "outputs": [],
   "source": [
    "def camera_snr(telescope, template, magnitude, exptime, silent=False): \n",
    "      ''' Run a basic SNR calculation that takes in a telescope, \n",
    "      spectral template, normalization magnitude, and exptime   \n",
    "      to compute SNR. For converting magnitude, template, \n",
    "      and SNR to exptime, use camera_exptime.py \n",
    "      \n",
    "        usage: \n",
    "           snr, hri = camera_snr(telescope, template, mag, snr_goal) \n",
    "\n",
    "          positional arguments:\n",
    "\n",
    "           1-telescope = 'EAC1', 'EAC2', or 'EAC3'. This argument is a string. \n",
    "             EAC1 = 6 m inner diameter, 7.2 outer diameter hex pattern, off-axis \n",
    "             EAC2 = 6 m diameter off-axis \n",
    "             EAC3 = 8 m diameter on-axis \n",
    "\n",
    "           2-template = your choice of spectral template: \n",
    "               'Classical T Tauri', 'M1 Dwarf', 'G Dwarf', '10 Myr Starburst', 'QSO', \n",
    "               'Seyfert 1', 'Seyfert 2', 'Liner', 'O5V Star', 'G2V Star', 'Orion Nebula', \n",
    "               'G191B2B (WD)', 'GD71 (WD)', 'GD153 (WD)', 'Starburst, No Dust', \n",
    "               'Starburst, E(B-V) = 0.6', 'B5V Star', 'M2V Sta', 'Elliptical Galaxy', \n",
    "               'Sbc Galaxy', 'Starburst Galaxy', 'NGC 1068', 'Galaxy with f_esc, HI=1, HeI=1', \n",
    "               'Galaxy with f_esc, HI=0.001, HeI=1', 'Blackbody5000', 'Blackbody100000' \n",
    "\n",
    "           3-mag = V magnitude to normalize the template spectrum, a float. \n",
    "\n",
    "           4-exptime =  desired exptime in hours \n",
    "\n",
    "           outputs are arrays with the SNR in each band for FUV, NUV, U, B, V, R, I, J, H, K \n",
    "           and the camera object \"hri\" \n",
    "       '''\n",
    "\n",
    "    # create a Telescope, Camera, and Exposure \n",
    "    tel, hri = Telescope(), Camera()\n",
    "    tel.set_from_json(telescope)\n",
    "\n",
    "    source = Source() \n",
    "    redshift = 0. # changes to these are not implemented yet \n",
    "    extinction = 0. \n",
    "\n",
    "    source.set_sed(template, magnitude, redshift, extinction, 'galex,fuv')   \n",
    "\n",
    "    exp = SourcePhotometricExposure() \n",
    "    exp.source = source\n",
    "    \n",
    "    exp.exptime = [[exptime, exptime, exptime, exptime, exptime, exptime, exptime, exptime, exptime, exptime], 'hr']\n",
    "    exp.unknown = 'snr'\n",
    "    tel.add_camera(hri)\n",
    "    hri.add_exposure(exp)\n",
    "\n",
    "    print('------ Computing SNR as the Unknown -------') \n",
    "    if not silent: \n",
    "        for bb, ss in zip(hri.bandnames, exp.snr): print(\"{}, SNR = {}\".format(bb, ss)) \n",
    "            \n",
    "    return exp.snr, exp "
   ]
  },
  {
   "cell_type": "code",
   "execution_count": 20,
   "id": "98af6604-3e8e-4185-940c-259f14cba791",
   "metadata": {},
   "outputs": [
    {
     "name": "stdout",
     "output_type": "stream",
     "text": [
      "------ Computing SNR as the Unknown -------\n",
      "FUV, SNR = 18.132480240201964 electron(1/2)\n",
      "NUV, SNR = 20.565561321786003 electron(1/2)\n",
      "U, SNR = 26.615271546048564 electron(1/2)\n",
      "B, SNR = 28.15460119302201 electron(1/2)\n",
      "V, SNR = 23.738448242220112 electron(1/2)\n",
      "R, SNR = 17.54591280954839 electron(1/2)\n",
      "I, SNR = 12.292267626580712 electron(1/2)\n",
      "J, SNR = 19.757438864350615 electron(1/2)\n",
      "H, SNR = 16.056524269168886 electron(1/2)\n",
      "K, SNR = 0.8451195448212911 electron(1/2)\n"
     ]
    }
   ],
   "source": [
    "snr, exp = camera_snr('EAC1', 'Flat (AB)', 30., 10.) "
   ]
  },
  {
   "cell_type": "code",
   "execution_count": 26,
   "id": "cb41d2b2-b9aa-4a6e-b9de-99675a888ae6",
   "metadata": {},
   "outputs": [],
   "source": [
    "def camera_exptime(telescope, template, magnitude, snrgoal, silent=False): \n",
    "    ''' Run a basic SNR calculation that takes in a telescope, \n",
    "      spectral template, normalization magnitude, and SNR goal  \n",
    "      to compute exptime. For converting magnitude, template, \n",
    "      and exptime to SNR, use camera_snr.py \n",
    "      \n",
    "        usage: \n",
    "          exptime, hri = camera_exptime(telescope, template, mag, snr_goal) \n",
    "\n",
    "          positional arguments:\n",
    "\n",
    "           1-telescope = 'EAC1', 'EAC2', or 'EAC3'. This argument is a string. \n",
    "             EAC1 = 6 m inner diameter, 7.2 outer diameter hex pattern, off-axis \n",
    "             EAC2 = 6 m diameter off-axis \n",
    "             EAC3 = 8 m diameter on-axis \n",
    "\n",
    "           2-template = your choice of spectral template: \n",
    "               'Classical T Tauri', 'M1 Dwarf', 'G Dwarf', '10 Myr Starburst', 'QSO', \n",
    "               'Seyfert 1', 'Seyfert 2', 'Liner', 'O5V Star', 'G2V Star', 'Orion Nebula', \n",
    "               'G191B2B (WD)', 'GD71 (WD)', 'GD153 (WD)', 'Starburst, No Dust', \n",
    "               'Starburst, E(B-V) = 0.6', 'B5V Star', 'M2V Sta', 'Elliptical Galaxy', \n",
    "               'Sbc Galaxy', 'Starburst Galaxy', 'NGC 1068', 'Galaxy with f_esc, HI=1, HeI=1', \n",
    "               'Galaxy with f_esc, HI=0.001, HeI=1', 'Blackbody5000', 'Blackbody100000' \n",
    "\n",
    "           3-mag = V magnitude to normalize the template spectrum, a float.\n",
    "\n",
    "           4-snr_goal = desired SNR, per pixel, for each band \n",
    "\n",
    "           outputs are arrays with the exptime in each band for FUV, NUV, U, B, V, R, I, J, H, K \n",
    "       '''\n",
    "    # create a Telescope, Camera, and Exposure \n",
    "    tel, hri = Telescope(), Camera()\n",
    "    tel.set_from_json(telescope)\n",
    "\n",
    "    source = Source() \n",
    "    redshift = 0. # changes to these are not implemented yet \n",
    "    extinction = 0. \n",
    "\n",
    "    source.set_sed(template, magnitude, redshift, extinction, 'galex,fuv')   \n",
    "        \n",
    "    exp = SourcePhotometricExposure() \n",
    "    exp.source = source\n",
    "\n",
    "    exp._snr = [snr_goal] * u.Unit('electron(1/2)')  \n",
    "    exp.unknown = 'exptime' \n",
    "    tel.add_camera(hri)\n",
    "    hri.add_exposure(exp)\n",
    "\n",
    "    print('-- Computing Exptime as the Unknown --') \n",
    "    if not silent: \n",
    "        for bb, ee in zip(hri.bandnames, exp.exptime): print(\"{}, SNR = {}\".format(bb, ee)) \n",
    "\n",
    "    return exp.exptime, hri "
   ]
  },
  {
   "cell_type": "code",
   "execution_count": 27,
   "id": "77046760-537b-495d-8a20-c3808269c1c5",
   "metadata": {},
   "outputs": [
    {
     "name": "stdout",
     "output_type": "stream",
     "text": [
      "-- Computing Exptime as the Unknown --\n",
      "FUV, SNR = 8868.584623391833 s\n",
      "NUV, SNR = 5533.9690121392805 s\n",
      "U, SNR = 3770.853845507179 s\n",
      "B, SNR = 3454.728937863258 s\n",
      "V, SNR = 5086.295890000656 s\n",
      "R, SNR = 5556.9301520684 s\n",
      "I, SNR = 8640.368796941711 s\n",
      "J, SNR = 1496.1976133696564 s\n",
      "H, SNR = 1449.4766706861926 s\n",
      "K, SNR = 204615.8781487314 s\n"
     ]
    }
   ],
   "source": [
    "snr, exp = camera_exptime('EAC1', 'QSO', 30., 8.) "
   ]
  },
  {
   "cell_type": "code",
   "execution_count": 33,
   "id": "3fb5fc7c-7e84-4bc5-aa0c-fe8c42f962b0",
   "metadata": {},
   "outputs": [],
   "source": [
    "def camera_magnitude(telescope, template, snr, exptime, silent=False): \n",
    "    ''' Run a basic SNR calculation that takes in a telescope, \n",
    "      spectral template, normalization magnitude, and SNR goal  \n",
    "      to compute exptime. For converting magnitude, template, \n",
    "      and exptime to SNR, use camera_snr.py \n",
    "      \n",
    "        usage: \n",
    "          exptime, hri = camera_magnitude(telescope, template, mag, snr_goal) \n",
    "\n",
    "          positional arguments:\n",
    "\n",
    "           1-telescope = 'EAC1', 'EAC2', or 'EAC3'. This argument is a string. \n",
    "             EAC1 = 6 m inner diameter, 7.2 outer diameter hex pattern, off-axis \n",
    "             EAC2 = 6 m diameter off-axis \n",
    "             EAC3 = 8 m diameter on-axis \n",
    "\n",
    "           2-template = your choice of spectral template: \n",
    "               'Classical T Tauri', 'M1 Dwarf', 'G Dwarf', '10 Myr Starburst', 'QSO', \n",
    "               'Seyfert 1', 'Seyfert 2', 'Liner', 'O5V Star', 'G2V Star', 'Orion Nebula', \n",
    "               'G191B2B (WD)', 'GD71 (WD)', 'GD153 (WD)', 'Starburst, No Dust', \n",
    "               'Starburst, E(B-V) = 0.6', 'B5V Star', 'M2V Sta', 'Elliptical Galaxy', \n",
    "               'Sbc Galaxy', 'Starburst Galaxy', 'NGC 1068', 'Galaxy with f_esc, HI=1, HeI=1', \n",
    "               'Galaxy with f_esc, HI=0.001, HeI=1', 'Blackbody5000', 'Blackbody100000' \n",
    "\n",
    "           3-snr_goal = desired SNR, per pixel, for each band \n",
    "\n",
    "           4-exptime = exposure time per band in hours\n",
    "\n",
    "           outputs are arrays with the limiting in each band for FUV, NUV, U, B, V, R, I, J, H, K \n",
    "       '''\n",
    "    \n",
    "    # create a Telescope, Camera, and Exposure \n",
    "    tel, hri = Telescope(), Camera()\n",
    "    tel.set_from_json(telescope)\n",
    "\n",
    "    source = Source() \n",
    "    redshift = 0. # changes to these are not implemented yet \n",
    "    extinction = 0. \n",
    "\n",
    "    source.set_sed(template, 30., redshift, extinction, 'galex,fuv')   \n",
    "        \n",
    "    exp = SourcePhotometricExposure() \n",
    "    exp.source = source\n",
    "\n",
    "    exp.exptime = [[exptime, exptime, exptime, exptime, exptime, exptime, exptime, exptime, exptime, exptime], 'hr']\n",
    "    exp._snr = [snr] * u.Unit('electron(1/2)')  \n",
    "    \n",
    "    exp.unknown = 'magnitude' \n",
    "    tel.add_camera(hri)\n",
    "    hri.add_exposure(exp)\n",
    "\n",
    "    print('--- Computing Magnitude as the Unknown ---') \n",
    "    if not silent: \n",
    "        for bb, mm in zip(hri.bandnames, exp.magnitude): print(\"{}, SNR = {}\".format(bb, mm)) \n",
    "\n",
    "    return exp.magnitude, hri "
   ]
  },
  {
   "cell_type": "code",
   "execution_count": null,
   "id": "64e1c36e-34c3-4155-9f53-78a9e46478a4",
   "metadata": {},
   "outputs": [],
   "source": []
  },
  {
   "cell_type": "code",
   "execution_count": null,
   "id": "e8f6fb0a-8cdb-474e-9e7d-04d68fd7c04c",
   "metadata": {},
   "outputs": [],
   "source": []
  },
  {
   "cell_type": "code",
   "execution_count": 34,
   "id": "288d590b-7528-4601-bb23-1fd2c90bbe66",
   "metadata": {},
   "outputs": [
    {
     "name": "stdout",
     "output_type": "stream",
     "text": [
      "--- Computing Magnitude as the Unknown ---\n",
      "FUV, SNR = 31.92760465093968 mag(AB)\n",
      "NUV, SNR = 32.088187008511454 mag(AB)\n",
      "U, SNR = 32.36688518681279 mag(AB)\n",
      "B, SNR = 32.40787628277046 mag(AB)\n",
      "V, SNR = 32.17539766499057 mag(AB)\n",
      "R, SNR = 31.802149654283163 mag(AB)\n",
      "I, SNR = 31.40465166373087 mag(AB)\n",
      "J, SNR = 31.903590551778652 mag(AB)\n",
      "H, SNR = 31.666327050325386 mag(AB)\n",
      "K, SNR = 28.446163302739667 mag(AB)\n"
     ]
    }
   ],
   "source": [
    "snr, exp = camera_magnitude('EAC1', 'QSO', 5., 20.) "
   ]
  },
  {
   "cell_type": "code",
   "execution_count": null,
   "id": "334d3b91-27fd-4ffd-b74b-dc612b144935",
   "metadata": {},
   "outputs": [],
   "source": []
  },
  {
   "cell_type": "code",
   "execution_count": null,
   "id": "1bcdab72-df63-4825-8b8c-d731e49d260b",
   "metadata": {},
   "outputs": [],
   "source": []
  },
  {
   "cell_type": "code",
   "execution_count": null,
   "id": "5adc3318-7e32-432b-9c4d-6b40158015ec",
   "metadata": {},
   "outputs": [],
   "source": []
  },
  {
   "cell_type": "code",
   "execution_count": null,
   "id": "c71f571c-0379-4d5a-bc5f-6c36411f9dd2",
   "metadata": {},
   "outputs": [],
   "source": []
  },
  {
   "cell_type": "code",
   "execution_count": null,
   "id": "afe87148-7833-40f4-8581-4590c1494d7c",
   "metadata": {},
   "outputs": [],
   "source": []
  },
  {
   "cell_type": "code",
   "execution_count": null,
   "id": "cbd4bb43-ab3b-447d-bd1d-2f8b8e5845ad",
   "metadata": {},
   "outputs": [],
   "source": []
  },
  {
   "cell_type": "code",
   "execution_count": null,
   "id": "9f11464e-4b64-40ea-8445-b27c38a8791e",
   "metadata": {},
   "outputs": [],
   "source": []
  },
  {
   "cell_type": "code",
   "execution_count": null,
   "id": "f04d1430-a47f-4492-8849-83a6beed6d38",
   "metadata": {},
   "outputs": [],
   "source": []
  }
 ],
 "metadata": {
  "kernelspec": {
   "display_name": "Python 3 (ipykernel)",
   "language": "python",
   "name": "python3"
  },
  "language_info": {
   "codemirror_mode": {
    "name": "ipython",
    "version": 3
   },
   "file_extension": ".py",
   "mimetype": "text/x-python",
   "name": "python",
   "nbconvert_exporter": "python",
   "pygments_lexer": "ipython3",
   "version": "3.12.7"
  }
 },
 "nbformat": 4,
 "nbformat_minor": 5
}
