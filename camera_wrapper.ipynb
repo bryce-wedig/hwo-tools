{
 "cells": [
  {
   "cell_type": "markdown",
   "id": "de56048d-ae24-4da4-8eab-0f1b245f05ad",
   "metadata": {},
   "source": [
    "## Illustration of the simple wrapper for camera_etc "
   ]
  },
  {
   "cell_type": "markdown",
   "id": "480cbfc3-0122-4b28-8515-3918f2b80f80",
   "metadata": {},
   "source": [
    "First, import the wrapper function for obtaining HRI SNR from basic inputs "
   ]
  },
  {
   "cell_type": "code",
   "execution_count": 10,
   "id": "8c1c022f-d49b-4e5c-9ae4-0fd0ee8a24d6",
   "metadata": {},
   "outputs": [],
   "source": [
    "from syotools.wrappers.camera import camera_snr\n",
    "import matplotlib.pyplot as plt "
   ]
  },
  {
   "cell_type": "code",
   "execution_count": 12,
   "id": "5d0ae6a3-71dd-48ef-ad16-5287826f3916",
   "metadata": {},
   "outputs": [
    {
     "name": "stdout",
     "output_type": "stream",
     "text": [
      "Setting Telescope to:  EAC1\n",
      "Current SED template: flat\n",
      "Current exposure time: 10.0 hours\n",
      "\n",
      "FUV, SNR = 5.428741145526547\n",
      "NUV, SNR = 6.237748144844533\n",
      "U, SNR = 8.132459512709731\n",
      "B, SNR = 8.535099338582734\n",
      "V, SNR = 6.994618317537982\n",
      "R, SNR = 5.017576123150422\n",
      "I, SNR = 3.4805850477498184\n",
      "J, SNR = 5.607469632953257\n",
      "H, SNR = 4.515958737822971\n",
      "K, SNR = 0.23365575146230233\n"
     ]
    }
   ],
   "source": [
    "snr, hri = camera_snr('EAC1', 'flat', 31., 10.) "
   ]
  }
 ],
 "metadata": {
  "kernelspec": {
   "display_name": "Python 3 (ipykernel)",
   "language": "python",
   "name": "python3"
  },
  "language_info": {
   "codemirror_mode": {
    "name": "ipython",
    "version": 3
   },
   "file_extension": ".py",
   "mimetype": "text/x-python",
   "name": "python",
   "nbconvert_exporter": "python",
   "pygments_lexer": "ipython3",
   "version": "3.9.19"
  }
 },
 "nbformat": 4,
 "nbformat_minor": 5
}
