{
 "cells": [
  {
   "cell_type": "code",
   "execution_count": 1,
   "metadata": {},
   "outputs": [
    {
     "name": "stdout",
     "output_type": "stream",
     "text": [
      "Warning, 5 of 20000 bins contained negative fluxes; they have been set to zero.\n"
     ]
    },
    {
     "name": "stderr",
     "output_type": "stream",
     "text": [
      "/data/bwedig/.conda/envs/hwo/lib/python3.10/site-packages/pysynphot/units.py:824: RuntimeWarning: divide by zero encountered in log\n",
      "  return -1.085736 * N.log(arg) + ABZERO\n"
     ]
    },
    {
     "name": "stdout",
     "output_type": "stream",
     "text": [
      "Warning, 3590 of 20000 bins contained negative fluxes; they have been set to zero.\n",
      "Warning, 293 of 2920 bins contained negative fluxes; they have been set to zero.\n"
     ]
    }
   ],
   "source": [
    "import astropy.units as u\n",
    "import numpy as np \n",
    "import os, sys\n",
    "import matplotlib.pyplot as plt\n",
    "import pandas as pd\n",
    "from tqdm import tqdm\n",
    "from pprint import pprint\n",
    "from glob import glob\n",
    "\n",
    "from syotools.models import Telescope, Camera\n",
    "from syotools.utils.jsonunit import str_jsunit\n",
    "from syotools.spectra import SpectralLibrary"
   ]
  },
  {
   "cell_type": "markdown",
   "metadata": {},
   "source": [
    "# How detectable counts change when varying telescope parameters\n",
    "\n",
    "parameters to vary:\n",
    "* aperture size\n",
    "* exposure time\n",
    "\n",
    "SEDs (templates): elliptical galaxy for red deflectors (`elliptical`), sbc galaxy for blue sources (`sbc`)"
   ]
  },
  {
   "cell_type": "code",
   "execution_count": 37,
   "metadata": {},
   "outputs": [],
   "source": [
    "df = pd.read_csv('hwo_lens_population.csv')\n",
    "\n",
    "band = 'r'\n",
    "\n",
    "source_redshifts = df.loc[:,'z_source']\n",
    "lens_redshifts = df.loc[:,'z_lens']\n",
    "stellar_masses = df.loc[:,'stellar_mass']\n",
    "einstein_radii = df.loc[:,'einstein_radius']\n",
    "velocity_dispersions = df.loc[:,'velocity_dispersion']\n",
    "source_mags = df.loc[:,f'source_mag_{band}']\n",
    "lensed_source_mags = df.loc[:,f'lensed_source_mag_{band}']\n",
    "lens_mags = df.loc[:,f'lens_mag_{band}']"
   ]
  },
  {
   "cell_type": "code",
   "execution_count": 38,
   "metadata": {},
   "outputs": [
    {
     "data": {
      "image/png": "[encoded data removed]",
      "text/plain": [
       "<Figure size 640x480 with 1 Axes>"
      ]
     },
     "metadata": {},
     "output_type": "display_data"
    }
   ],
   "source": [
    "plt.hist(source_lensed_mags, label='Lensed Source')\n",
    "plt.hist(lens_mags, label='Lens')\n",
    "plt.legend()\n",
    "plt.show()"
   ]
  },
  {
   "cell_type": "code",
   "execution_count": 23,
   "metadata": {},
   "outputs": [
    {
     "name": "stdout",
     "output_type": "stream",
     "text": [
      "Setting Telescope to:  EAC1\n"
     ]
    }
   ],
   "source": [
    "hri, tel = Camera(), Telescope() \n",
    "tel.set_from_json('EAC1')\n",
    "tel.add_camera(hri)\n",
    "hri_exp = hri.create_exposure()"
   ]
  },
  {
   "cell_type": "code",
   "execution_count": 24,
   "metadata": {},
   "outputs": [
    {
     "data": {
      "text/plain": [
       "['FUV', 'NUV', 'U', 'B', 'V', 'R', 'I', 'J', 'H', 'K']"
      ]
     },
     "execution_count": 24,
     "metadata": {},
     "output_type": "execute_result"
    }
   ],
   "source": [
    "hri.bandnames"
   ]
  },
  {
   "cell_type": "markdown",
   "metadata": {},
   "source": [
    "Loop through lens galaxies"
   ]
  },
  {
   "cell_type": "code",
   "execution_count": 46,
   "metadata": {},
   "outputs": [
    {
     "name": "stdout",
     "output_type": "stream",
     "text": [
      "('JsonUnit', {'unit': 'mag(AB)', 'value': [28.41727600984529, 28.894094473115395, 26.72110238574188, 24.314496342822544, 23.61451038973447, 23.14511705787978, 23.004846108944356, 22.370953569519408, 22.111580024588584, 21.755997612160805]})\n"
     ]
    }
   ],
   "source": [
    "# set exposure time\n",
    "exptime = 1  # hours\n",
    "hri_exp.exptime[1]['value'] = [exptime for _ in hri.bandnames] \n",
    "\n",
    "# set SED template for lensing galaxies\n",
    "hri_exp.sed_id = 'elliptical'\n",
    "\n",
    "print(hri_exp.magnitude)\n",
    "\n",
    "# snrs = []\n",
    "# for mag in tqdm(lens_mags[:100]):\n",
    "#     hri_exp.magnitude(mag)\n",
    "\n",
    "#     snr = hri_exp.recover('snr')\n",
    "#     hri_exp.enable()\n",
    "\n",
    "#     hri_sed, hri_snr = hri_exp.recover('sed', 'snr')  \n",
    "#     snr = hri_exp.snr[1]['value']\n",
    "#     snrs.append(snr)\n",
    "\n",
    "# lens_snrs = pd.DataFrame(snrs, columns=hri.bandnames)"
   ]
  },
  {
   "cell_type": "markdown",
   "metadata": {},
   "source": [
    "Loop through source galaxies"
   ]
  },
  {
   "cell_type": "code",
   "execution_count": 42,
   "metadata": {},
   "outputs": [
    {
     "name": "stderr",
     "output_type": "stream",
     "text": [
      "100%|██████████| 100/100 [00:03<00:00, 26.76it/s]\n"
     ]
    }
   ],
   "source": [
    "# set exposure time\n",
    "exptime = 1  # hours\n",
    "hri_exp.exptime[1]['value'] = [exptime for _ in hri.bandnames] \n",
    "\n",
    "# set SED template for source galaxies\n",
    "hri_exp.sed_id = 'sbc'\n",
    "\n",
    "snrs = []\n",
    "for mag in tqdm(source_lensed_mags[:100]):\n",
    "    hri_exp.renorm_sed(mag * u.ABmag, bandpass='v')\n",
    "\n",
    "    snr = hri_exp.recover('snr')\n",
    "    hri_exp.enable()\n",
    "\n",
    "    hri_sed, hri_snr = hri_exp.recover('sed', 'snr')  \n",
    "    snr = hri_exp.snr[1]['value']\n",
    "    snrs.append(snr)\n",
    "\n",
    "source_snrs = pd.DataFrame(snrs, columns=hri.bandnames)"
   ]
  },
  {
   "cell_type": "code",
   "execution_count": 43,
   "metadata": {},
   "outputs": [
    {
     "data": {
      "text/html": [
       "<div>\n",
       "<style scoped>\n",
       "    .dataframe tbody tr th:only-of-type {\n",
       "        vertical-align: middle;\n",
       "    }\n",
       "\n",
       "    .dataframe tbody tr th {\n",
       "        vertical-align: top;\n",
       "    }\n",
       "\n",
       "    .dataframe thead th {\n",
       "        text-align: right;\n",
       "    }\n",
       "</style>\n",
       "<table border=\"1\" class=\"dataframe\">\n",
       "  <thead>\n",
       "    <tr style=\"text-align: right;\">\n",
       "      <th></th>\n",
       "      <th>FUV</th>\n",
       "      <th>NUV</th>\n",
       "      <th>U</th>\n",
       "      <th>B</th>\n",
       "      <th>V</th>\n",
       "      <th>R</th>\n",
       "      <th>I</th>\n",
       "      <th>J</th>\n",
       "      <th>H</th>\n",
       "      <th>K</th>\n",
       "    </tr>\n",
       "  </thead>\n",
       "  <tbody>\n",
       "    <tr>\n",
       "      <th>0</th>\n",
       "      <td>0.839480</td>\n",
       "      <td>1.943163</td>\n",
       "      <td>10.527417</td>\n",
       "      <td>7.886043</td>\n",
       "      <td>7.620223</td>\n",
       "      <td>7.731735</td>\n",
       "      <td>5.725694</td>\n",
       "      <td>16.822765</td>\n",
       "      <td>17.334624</td>\n",
       "      <td>1.397928</td>\n",
       "    </tr>\n",
       "    <tr>\n",
       "      <th>1</th>\n",
       "      <td>0.628554</td>\n",
       "      <td>1.459823</td>\n",
       "      <td>8.083086</td>\n",
       "      <td>6.008225</td>\n",
       "      <td>5.785627</td>\n",
       "      <td>5.845830</td>\n",
       "      <td>4.314482</td>\n",
       "      <td>12.847522</td>\n",
       "      <td>13.189175</td>\n",
       "      <td>1.044114</td>\n",
       "    </tr>\n",
       "    <tr>\n",
       "      <th>2</th>\n",
       "      <td>0.495582</td>\n",
       "      <td>1.153458</td>\n",
       "      <td>6.479781</td>\n",
       "      <td>4.791166</td>\n",
       "      <td>4.603018</td>\n",
       "      <td>4.638149</td>\n",
       "      <td>3.415643</td>\n",
       "      <td>10.261506</td>\n",
       "      <td>10.508049</td>\n",
       "      <td>0.821953</td>\n",
       "    </tr>\n",
       "    <tr>\n",
       "      <th>3</th>\n",
       "      <td>1.002833</td>\n",
       "      <td>2.315312</td>\n",
       "      <td>12.344648</td>\n",
       "      <td>9.298809</td>\n",
       "      <td>9.008111</td>\n",
       "      <td>9.168203</td>\n",
       "      <td>6.806691</td>\n",
       "      <td>19.802401</td>\n",
       "      <td>20.460072</td>\n",
       "      <td>1.673135</td>\n",
       "    </tr>\n",
       "    <tr>\n",
       "      <th>4</th>\n",
       "      <td>0.049690</td>\n",
       "      <td>0.116498</td>\n",
       "      <td>0.690237</td>\n",
       "      <td>0.500140</td>\n",
       "      <td>0.476408</td>\n",
       "      <td>0.475294</td>\n",
       "      <td>0.347307</td>\n",
       "      <td>1.077680</td>\n",
       "      <td>1.093242</td>\n",
       "      <td>0.081986</td>\n",
       "    </tr>\n",
       "    <tr>\n",
       "      <th>...</th>\n",
       "      <td>...</td>\n",
       "      <td>...</td>\n",
       "      <td>...</td>\n",
       "      <td>...</td>\n",
       "      <td>...</td>\n",
       "      <td>...</td>\n",
       "      <td>...</td>\n",
       "      <td>...</td>\n",
       "      <td>...</td>\n",
       "      <td>...</td>\n",
       "    </tr>\n",
       "    <tr>\n",
       "      <th>95</th>\n",
       "      <td>0.630172</td>\n",
       "      <td>1.463544</td>\n",
       "      <td>8.102290</td>\n",
       "      <td>6.022875</td>\n",
       "      <td>5.799893</td>\n",
       "      <td>5.860437</td>\n",
       "      <td>4.325377</td>\n",
       "      <td>12.878602</td>\n",
       "      <td>13.221474</td>\n",
       "      <td>1.046822</td>\n",
       "    </tr>\n",
       "    <tr>\n",
       "      <th>96</th>\n",
       "      <td>0.060361</td>\n",
       "      <td>0.141492</td>\n",
       "      <td>0.837175</td>\n",
       "      <td>0.606936</td>\n",
       "      <td>0.578264</td>\n",
       "      <td>0.577058</td>\n",
       "      <td>0.421750</td>\n",
       "      <td>1.307592</td>\n",
       "      <td>1.326799</td>\n",
       "      <td>0.099605</td>\n",
       "    </tr>\n",
       "    <tr>\n",
       "      <th>97</th>\n",
       "      <td>0.003921</td>\n",
       "      <td>0.009199</td>\n",
       "      <td>0.054828</td>\n",
       "      <td>0.039635</td>\n",
       "      <td>0.037719</td>\n",
       "      <td>0.037589</td>\n",
       "      <td>0.027444</td>\n",
       "      <td>0.085463</td>\n",
       "      <td>0.086605</td>\n",
       "      <td>0.006466</td>\n",
       "    </tr>\n",
       "    <tr>\n",
       "      <th>98</th>\n",
       "      <td>0.013141</td>\n",
       "      <td>0.030828</td>\n",
       "      <td>0.183515</td>\n",
       "      <td>0.132726</td>\n",
       "      <td>0.126332</td>\n",
       "      <td>0.125927</td>\n",
       "      <td>0.091956</td>\n",
       "      <td>0.286149</td>\n",
       "      <td>0.290035</td>\n",
       "      <td>0.021673</td>\n",
       "    </tr>\n",
       "    <tr>\n",
       "      <th>99</th>\n",
       "      <td>0.194706</td>\n",
       "      <td>0.455399</td>\n",
       "      <td>2.649565</td>\n",
       "      <td>1.933456</td>\n",
       "      <td>1.847114</td>\n",
       "      <td>1.849006</td>\n",
       "      <td>1.354623</td>\n",
       "      <td>4.157421</td>\n",
       "      <td>4.231159</td>\n",
       "      <td>0.321799</td>\n",
       "    </tr>\n",
       "  </tbody>\n",
       "</table>\n",
       "<p>100 rows × 10 columns</p>\n",
       "</div>"
      ],
      "text/plain": [
       "         FUV       NUV          U         B         V         R         I  \\\n",
       "0   0.839480  1.943163  10.527417  7.886043  7.620223  7.731735  5.725694   \n",
       "1   0.628554  1.459823   8.083086  6.008225  5.785627  5.845830  4.314482   \n",
       "2   0.495582  1.153458   6.479781  4.791166  4.603018  4.638149  3.415643   \n",
       "3   1.002833  2.315312  12.344648  9.298809  9.008111  9.168203  6.806691   \n",
       "4   0.049690  0.116498   0.690237  0.500140  0.476408  0.475294  0.347307   \n",
       "..       ...       ...        ...       ...       ...       ...       ...   \n",
       "95  0.630172  1.463544   8.102290  6.022875  5.799893  5.860437  4.325377   \n",
       "96  0.060361  0.141492   0.837175  0.606936  0.578264  0.577058  0.421750   \n",
       "97  0.003921  0.009199   0.054828  0.039635  0.037719  0.037589  0.027444   \n",
       "98  0.013141  0.030828   0.183515  0.132726  0.126332  0.125927  0.091956   \n",
       "99  0.194706  0.455399   2.649565  1.933456  1.847114  1.849006  1.354623   \n",
       "\n",
       "            J          H         K  \n",
       "0   16.822765  17.334624  1.397928  \n",
       "1   12.847522  13.189175  1.044114  \n",
       "2   10.261506  10.508049  0.821953  \n",
       "3   19.802401  20.460072  1.673135  \n",
       "4    1.077680   1.093242  0.081986  \n",
       "..        ...        ...       ...  \n",
       "95  12.878602  13.221474  1.046822  \n",
       "96   1.307592   1.326799  0.099605  \n",
       "97   0.085463   0.086605  0.006466  \n",
       "98   0.286149   0.290035  0.021673  \n",
       "99   4.157421   4.231159  0.321799  \n",
       "\n",
       "[100 rows x 10 columns]"
      ]
     },
     "execution_count": 43,
     "metadata": {},
     "output_type": "execute_result"
    }
   ],
   "source": [
    "source_snrs"
   ]
  },
  {
   "cell_type": "code",
   "execution_count": 33,
   "metadata": {},
   "outputs": [],
   "source": [
    "lens_r_snrs = lens_snrs['R']\n",
    "source_u_snrs = source_snrs['V']"
   ]
  },
  {
   "cell_type": "code",
   "execution_count": 34,
   "metadata": {},
   "outputs": [
    {
     "data": {
      "image/png": "[encoded data removed]",
      "text/plain": [
       "<Figure size 640x480 with 1 Axes>"
      ]
     },
     "metadata": {},
     "output_type": "display_data"
    }
   ],
   "source": [
    "plt.hist(lens_r_snrs, label='Lens R-band')\n",
    "plt.hist(source_u_snrs, label='Source U-band')\n",
    "plt.legend()\n",
    "plt.show()"
   ]
  }
 ],
 "metadata": {
  "kernelspec": {
   "display_name": "hwo",
   "language": "python",
   "name": "python3"
  },
  "language_info": {
   "codemirror_mode": {
    "name": "ipython",
    "version": 3
   },
   "file_extension": ".py",
   "mimetype": "text/x-python",
   "name": "python",
   "nbconvert_exporter": "python",
   "pygments_lexer": "ipython3",
   "version": "3.10.6"
  }
 },
 "nbformat": 4,
 "nbformat_minor": 2
}
