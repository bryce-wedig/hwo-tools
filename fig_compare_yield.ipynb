{
 "cells": [
  {
   "cell_type": "code",
   "execution_count": 1,
   "metadata": {},
   "outputs": [],
   "source": [
    "import os\n",
    "import pickle\n",
    "import numpy as np\n",
    "import matplotlib.pyplot as plt"
   ]
  },
  {
   "cell_type": "code",
   "execution_count": 2,
   "metadata": {},
   "outputs": [],
   "source": [
    "figure_dir = 'figures'\n",
    "output_dir = 'output'"
   ]
  },
  {
   "cell_type": "code",
   "execution_count": 3,
   "metadata": {},
   "outputs": [
    {
     "name": "stdout",
     "output_type": "stream",
     "text": [
      "Warning, 5 of 20000 bins contained negative fluxes; they have been set to zero.\n"
     ]
    },
    {
     "name": "stderr",
     "output_type": "stream",
     "text": [
      "/data/bwedig/.conda/envs/hwo/lib/python3.10/site-packages/pysynphot/units.py:824: RuntimeWarning: divide by zero encountered in log\n",
      "  return -1.085736 * N.log(arg) + ABZERO\n"
     ]
    },
    {
     "name": "stdout",
     "output_type": "stream",
     "text": [
      "Warning, 3590 of 20000 bins contained negative fluxes; they have been set to zero.\n",
      "Warning, 293 of 2920 bins contained negative fluxes; they have been set to zero.\n"
     ]
    }
   ],
   "source": [
    "with open(os.path.join(output_dir, 'aper_snr_dict.pkl'), 'rb') as results_file:\n",
    "    snr_dict = pickle.load(results_file)\n",
    "\n",
    "with open(os.path.join(output_dir, 'aper_detectable_dict.pkl'), 'rb') as results_file:\n",
    "    detectable_dict = pickle.load(results_file)\n",
    "\n",
    "with open(os.path.join(output_dir, 'aper_characterizable_dict.pkl'), 'rb') as results_file:\n",
    "    characterizable_dict = pickle.load(results_file)\n",
    "\n",
    "aperture = 6\n",
    "detectable = detectable_dict[aperture]\n",
    "characterizable = characterizable_dict[aperture]"
   ]
  },
  {
   "cell_type": "code",
   "execution_count": 4,
   "metadata": {},
   "outputs": [
    {
     "name": "stdout",
     "output_type": "stream",
     "text": [
      "Detectable per square degree: 34560.00\n",
      "Characterizable per square degree: 22090.00\n"
     ]
    }
   ],
   "source": [
    "print(f'Detectable per square degree: {len(detectable) / 0.1:.2f}')\n",
    "print(f'Characterizable per square degree: {len(characterizable) / 0.1:.2f}')"
   ]
  }
 ],
 "metadata": {
  "kernelspec": {
   "display_name": "hwo",
   "language": "python",
   "name": "python3"
  },
  "language_info": {
   "codemirror_mode": {
    "name": "ipython",
    "version": 3
   },
   "file_extension": ".py",
   "mimetype": "text/x-python",
   "name": "python",
   "nbconvert_exporter": "python",
   "pygments_lexer": "ipython3",
   "version": "3.10.6"
  }
 },
 "nbformat": 4,
 "nbformat_minor": 2
}
